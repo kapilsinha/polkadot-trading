{
 "cells": [
  {
   "cell_type": "code",
   "execution_count": null,
   "id": "b628cd11-35fa-47a8-9c5a-b0e0d1c0c248",
   "metadata": {},
   "outputs": [],
   "source": [
    "from binance.spot import Spot\n",
    "import datetime"
   ]
  },
  {
   "cell_type": "code",
   "execution_count": null,
   "id": "64847695-cb45-4c22-8c90-c02b73257fbe",
   "metadata": {},
   "outputs": [],
   "source": [
    "client = Spot()\n",
    "trades = client.trades(\n",
    "    symbol=\"DOTUSDT\",\n",
    "    limit=1,\n",
    ")\n",
    "trades\n",
    "# datetime.datetime.now().timestamp() #- trades[0]['time']"
   ]
  },
  {
   "cell_type": "code",
   "execution_count": null,
   "id": "ff57a8e0-a878-4e44-bfc7-4dffed7546c9",
   "metadata": {},
   "outputs": [],
   "source": [
    "type(client)"
   ]
  },
  {
   "cell_type": "code",
   "execution_count": null,
   "id": "00b471e8-6bd3-4d98-b8c5-52111643ec3d",
   "metadata": {},
   "outputs": [],
   "source": [
    "trades = client.trades(\n",
    "    symbol=\"DOTUSDT\",\n",
    "    limit=10,\n",
    ")\n",
    "trades"
   ]
  },
  {
   "cell_type": "code",
   "execution_count": null,
   "id": "645ce741-fcc3-4809-bbae-17b1bb3c588e",
   "metadata": {},
   "outputs": [],
   "source": [
    "from binance.websocket.spot.websocket_client import SpotWebsocketClient as WebsocketClient\n",
    "from time import sleep\n",
    "import logging\n",
    "import datetime\n",
    "\n",
    "logging.basicConfig(\n",
    "    level=logging.INFO,\n",
    "    format= '[%(asctime)s.%(msecs)03d] %(levelname)s:%(name)s %(message)s | %(pathname)s:%(lineno)d',\n",
    "    datefmt='%Y%m%d,%H:%M:%S'\n",
    ")\n",
    "import pdb\n",
    "\n",
    "def message_handler(message):\n",
    "    if 'E' in message.keys():\n",
    "        t = datetime.datetime.fromtimestamp(message['E'] * 1e-3).strftime('%Y%m%d,%H:%M:%S.%f')[:-3]\n",
    "        logging.info(f'{t}: {message}')\n",
    "    else:\n",
    "        logging.info(message)\n",
    "\n",
    "lst = []\n",
    "def message_handler2(message):\n",
    "    if 'E' in message.keys():\n",
    "        t = datetime.datetime.fromtimestamp(message['E'] * 1e-3).strftime('%Y%m%d,%H:%M:%S.%f')[:-3]\n",
    "        logging.info(f'{t}: {message}')\n",
    "        now_epoch = (datetime.datetime.utcnow() - datetime.datetime.utcfromtimestamp(0)).total_seconds() * 1000\n",
    "        delay = now_epoch - message['E']\n",
    "        lst.append(delay)\n",
    "\n",
    "my_client = WebsocketClient()\n",
    "my_client.start()\n",
    "\n",
    "my_client.agg_trade(\n",
    "    symbol=\"ethusdt\",\n",
    "    # interval=\"1m\",\n",
    "    id=2,\n",
    "    callback=message_handler2,\n",
    ")\n",
    "\n",
    "# sleep(2)\n",
    "\n",
    "# my_client.trade(\n",
    "#     symbol=\"eosusdt\",\n",
    "#     interval=\"1m\",\n",
    "#     id=2,\n",
    "#     callback=message_handler,\n",
    "# )\n",
    "\n",
    "sleep(60)\n",
    "print(lst)\n",
    "\n",
    "print(\"closing ws connection\")\n",
    "my_client.stop()"
   ]
  },
  {
   "cell_type": "code",
   "execution_count": null,
   "id": "99293b9f-905a-4a44-89e6-bb5cc0bdba53",
   "metadata": {},
   "outputs": [],
   "source": [
    "Binance: Delay from trade time to receiving the trade over websockets is <150 ms (99 percentile)"
   ]
  },
  {
   "cell_type": "code",
   "execution_count": null,
   "id": "ea9d7bc4-8b8b-4178-9c52-49757afd1599",
   "metadata": {},
   "outputs": [],
   "source": [
    "lst"
   ]
  },
  {
   "cell_type": "code",
   "execution_count": null,
   "id": "2ee27c2a-17c5-42bf-9185-86e421c60771",
   "metadata": {},
   "outputs": [],
   "source": [
    "import numpy as np\n",
    "np.percentile(lst, [1, 5, 25, 50, 75, 95, 99])"
   ]
  },
  {
   "cell_type": "code",
   "execution_count": null,
   "id": "1ae8234f-efa0-47bc-8b6b-3269a603b12f",
   "metadata": {},
   "outputs": [],
   "source": []
  }
 ],
 "metadata": {
  "kernelspec": {
   "display_name": "moonbeam-py",
   "language": "python",
   "name": "moonbeampy"
  },
  "language_info": {
   "codemirror_mode": {
    "name": "ipython",
    "version": 3
   },
   "file_extension": ".py",
   "mimetype": "text/x-python",
   "name": "python",
   "nbconvert_exporter": "python",
   "pygments_lexer": "ipython3",
   "version": "3.10.4"
  }
 },
 "nbformat": 4,
 "nbformat_minor": 5
}
