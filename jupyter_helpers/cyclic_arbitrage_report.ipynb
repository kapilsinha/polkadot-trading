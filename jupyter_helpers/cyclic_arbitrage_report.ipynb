{
 "cells": [
  {
   "cell_type": "code",
   "execution_count": 1,
   "id": "bbe58293-6116-434d-8fea-ff612e28973b",
   "metadata": {},
   "outputs": [],
   "source": [
    "import sys\n",
    "sys.path.append('..') # hack to allow us to import common helpers and still place this in a subdir\n",
    "from common.helpers import load_config, load_contract, retry_call_wrapper\n",
    "\n",
    "from web3 import Web3"
   ]
  },
  {
   "cell_type": "code",
   "execution_count": 2,
   "id": "c66b2d23-8720-4419-865b-cf9af2c98e52",
   "metadata": {},
   "outputs": [],
   "source": [
    "config = load_config('../cfg.yaml')\n",
    "web3 = Web3(Web3.HTTPProvider(config['rpc_endpoint']['http']['dwellir']))\n",
    "cfg = config['venue']['stellaswap']\n",
    "factory = load_contract(\n",
    "    cfg['contract_address']['factory'],\n",
    "    f\"../{cfg['abi_path']['factory']}\",\n",
    "    web3,\n",
    ")"
   ]
  },
  {
   "cell_type": "code",
   "execution_count": 3,
   "id": "fe232fb8-c509-40f4-8a04-d85270ea8c33",
   "metadata": {},
   "outputs": [],
   "source": [
    "def quote_with_fees(in_reserve, out_reserve, amount_in=1):\n",
    "    amount_out = (amount_in * .9975 * out_reserve) / (in_reserve + amount_in * .9975)\n",
    "    return amount_out\n",
    "\n",
    "def inverse_quote_with_fees(in_reserve, out_reserve, amount_out):\n",
    "    amount_in = (400/399) * amount_out * in_reserve / (out_reserve - amount_out)\n",
    "    return amount_in"
   ]
  },
  {
   "cell_type": "markdown",
   "id": "0e2b3298-b3ad-40d8-8360-d9cca992932e",
   "metadata": {},
   "source": [
    "## Summary of sent orders"
   ]
  },
  {
   "cell_type": "raw",
   "id": "8227bc07-9daa-46c8-a58f-405ae31bbf9d",
   "metadata": {},
   "source": [
    "[20220913,02:36:42.948] Trigger after block 1857467\n",
    "[20220913,02:36:44.047] Order(\n",
    "    amount_in=34090718,\n",
    "    amount_out_min=34170722,\n",
    "    path=[\n",
    "        '0x818ec0A7Fe18Ff94269904fCED6AE3DaE6d6dC0b', # USDC\n",
    "        '0xfA9343C3897324496A05fC75abeD6bAC29f8A40f', # ETH\n",
    "        '0xAcc15dC74880C9944775448304B263D191c6077F', # WGLMR\n",
    "        '0x0E358838ce72d5e61E0018a2ffaC4bEC5F4c88d2', # STELLA\n",
    "        '0x818ec0A7Fe18Ff94269904fCED6AE3DaE6d6dC0b', # USDC\n",
    "    ],\n",
    "    to='0x05a81d8564a3eA298660e34e03E5Eff9a29d7a2A',\n",
    "    deadline=1663054650, # 02:37:30\n",
    "    order_id=1,\n",
    "    metadata={'input_usd_notional': 34.429173775646674, 'expected_out_amount': 160009.37114837766, 'expected_pnl': 0.1615979588637423}\n",
    "    )\n",
    "[20220913,02:37:06.544] Txn 0xa640b37c19fe979f1042ca0bd85682c1117e9656e0f0ebdf8688dde3e3950f61\n",
    "    -> rejected in block 1857469 because INSUFFICIENT_OUTPUT_AMOUNT\n",
    "Our txn was beaten by 0x6d03443515686b563fb65da3afe62d9fcdecdfd8e9be9031c7c8c926f7ee4346 :/\n",
    "\n",
    "[20220913,02:41:30.634] Trigger after block 1857490\n",
    "[20220913,02:41:31.713] Order(\n",
    "    amount_in=13257617,\n",
    "    amount_out_min=13268330,\n",
    "    path=[\n",
    "        '0x818ec0A7Fe18Ff94269904fCED6AE3DaE6d6dC0b', # USDC\n",
    "        '0xfA9343C3897324496A05fC75abeD6bAC29f8A40f', # ETH\n",
    "        '0xAcc15dC74880C9944775448304B263D191c6077F', # WGLMR\n",
    "        '0x818ec0A7Fe18Ff94269904fCED6AE3DaE6d6dC0b', # USDC\n",
    "    ],\n",
    "    to='0x05a81d8564a3eA298660e34e03E5Eff9a29d7a2A',\n",
    "    deadline=1663054938, # 02:42:18\n",
    "    order_id=4,\n",
    "    metadata={'input_usd_notional': 13.389239837775417, 'expected_out_amount': 21427.296035951003, 'expected_pnl': 0.021640028196648196}\n",
    ")\n",
    "[20220913,02:41:54.449] Txn 0x6cc371c5bc101fcf1b8def9f35a226424e92223a6c465bddb65b4a24717d1118\n",
    "    -> rejected in block 1857492 because INSUFFICIENT_OUTPUT_AMOUNT\n",
    "\n",
    "[20220913,02:50:31.928] Trigger after block 1857534\n",
    "[20220913,02:50:31.928] Order(\n",
    "    amount_in=19855964,\n",
    "    amount_out_min=19868360,\n",
    "    path=[\n",
    "        '0x818ec0A7Fe18Ff94269904fCED6AE3DaE6d6dC0b', # USDC\n",
    "        '0xAcc15dC74880C9944775448304B263D191c6077F', # WGLMR\n",
    "        '0x0E358838ce72d5e61E0018a2ffaC4bEC5F4c88d2', # STELLA\n",
    "        '0x818ec0A7Fe18Ff94269904fCED6AE3DaE6d6dC0b', # USDC\n",
    "    ],\n",
    "    to='0x05a81d8564a3eA298660e34e03E5Eff9a29d7a2A',\n",
    "    deadline=1663055478,  # 02:51:18\n",
    "    order_id=6,\n",
    "    metadata={'input_usd_notional': 20.053095832096712, 'expected_out_amount': 24792.147069502622, 'expected_pnl': 0.02503828577993855}\n",
    "    )\n",
    "[20220913,02:50:54.520] Txn 0x97d23b567f936375d85ea828c1d08d7c6b918db9c45755bfe5066edbc4eeeea8\n",
    "    -> rejected in block 1857536 because INSUFFICIENT_OUTPUT_AMOUNT\n",
    "\n",
    "[20220913,03:57:24.803] Trigger after block 1857859\n",
    "[20220913,03:57:25.890] Order(\n",
    "    amount_in=17281355,\n",
    "    amount_out_min=17299540,\n",
    "    path=[\n",
    "        '0x818ec0A7Fe18Ff94269904fCED6AE3DaE6d6dC0b', # USDC\n",
    "        '0xfA9343C3897324496A05fC75abeD6bAC29f8A40f', # ETH\n",
    "        '0xAcc15dC74880C9944775448304B263D191c6077F', # WGLMR\n",
    "        '0x818ec0A7Fe18Ff94269904fCED6AE3DaE6d6dC0b', # USDC\n",
    "    ],\n",
    "    to='0x05a81d8564a3eA298660e34e03E5Eff9a29d7a2A',\n",
    "    deadline=1663059492, # 03:58:12\n",
    "    order_id=9,\n",
    "    metadata={'input_usd_notional': 17.45292587776064, 'expected_out_amount': 36370.10196778923, 'expected_pnl': 0.03673118767656945}\n",
    "    )\n",
    "[20220913,03:58:00.572] Txn 0xcf5e7b6b477cf0acc219654a5ea8c794895203259096a67cb06900bd631966f6\n",
    "    -> rejected in block 1857862 because INSUFFICIENT_OUTPUT_AMOUNT\n",
    "\n",
    "[20220913,04:10:07.002] Trigger after block 1857921\n",
    "[20220913,04:10:08.104] Order(\n",
    "    amount_in=31293430,\n",
    "    amount_out_min=31326852,\n",
    "    path=[\n",
    "        '0x818ec0A7Fe18Ff94269904fCED6AE3DaE6d6dC0b', # USDC\n",
    "        '0x27292cf0016E5dF1d8b37306B2A98588aCbD6fCA', # axlATOM\n",
    "        '0xAcc15dC74880C9944775448304B263D191c6077F', # WGLMR\n",
    "        '0x818ec0A7Fe18Ff94269904fCED6AE3DaE6d6dC0b', # USDC\n",
    "    ],\n",
    "    to='0x05a81d8564a3eA298660e34e03E5Eff9a29d7a2A',\n",
    "    deadline=1663060254, # 04:10:54\n",
    "    order_id=11,\n",
    "    metadata={'input_usd_notional': 31.60411404377094, 'expected_out_amount': 66845.91587093472, 'expected_pnl': 0.06750956825587157}\n",
    "    )\n",
    "[20220913,04:11:06.594] Txn 0x97b4b138e0fdb54133ba2de1971dead3af8aaed98765cf77622cde7aa87c3dd1\n",
    "    -> rejected in block 1857926 because INSUFFICIENT_OUTPUT_AMOUNT\n",
    "\n",
    "[20220913,05:07:24.887] Trigger after block 1858198\n",
    "[20220913,05:07:26.053] Order(\n",
    "    amount_in=84670163,\n",
    "    amount_out_min=84917414,\n",
    "    path=[\n",
    "        '0x818ec0A7Fe18Ff94269904fCED6AE3DaE6d6dC0b', # USDC\n",
    "        '0xAcc15dC74880C9944775448304B263D191c6077F', # WGLMR\n",
    "        '0x27292cf0016E5dF1d8b37306B2A98588aCbD6fCA', # axlATOM\n",
    "        '0x818ec0A7Fe18Ff94269904fCED6AE3DaE6d6dC0b', # USDC\n",
    "    ],\n",
    "    to='0x05a81d8564a3eA298660e34e03E5Eff9a29d7a2A',\n",
    "    deadline=1663063692, # 05:08:12\n",
    "    order_id=14,\n",
    "    metadata={'input_usd_notional': 85.51077614555754, 'expected_out_amount': 494503.7594650239, 'expected_pnl': 0.4994132381527397}\n",
    "    )\n",
    "[Crashed due to timeout] Txn 0x9dad26ae28b5ada766ac037ecc9c5dc910f9eda266271a66aa75d3ff41c55024\n",
    "    -> rejected in block 1858204 because EXPIRED (txn was not incorporated in a block within 60 seconds)"
   ]
  },
  {
   "cell_type": "code",
   "execution_count": 4,
   "id": "0fb9a57e-0d74-442a-a1df-a218172ebb85",
   "metadata": {},
   "outputs": [],
   "source": [
    "usdc_eth     = load_contract(factory.functions.getPair('0x818ec0A7Fe18Ff94269904fCED6AE3DaE6d6dC0b', '0xfA9343C3897324496A05fC75abeD6bAC29f8A40f').call(), f\"../{cfg['abi_path']['pair']}\", web3,)\n",
    "eth_wglmr    = load_contract(factory.functions.getPair('0xfA9343C3897324496A05fC75abeD6bAC29f8A40f', '0xAcc15dC74880C9944775448304B263D191c6077F').call(), f\"../{cfg['abi_path']['pair']}\", web3,)\n",
    "wglmr_stella = load_contract(factory.functions.getPair('0xAcc15dC74880C9944775448304B263D191c6077F', '0x0E358838ce72d5e61E0018a2ffaC4bEC5F4c88d2').call(), f\"../{cfg['abi_path']['pair']}\", web3,)\n",
    "stella_usdc  = load_contract(factory.functions.getPair('0x0E358838ce72d5e61E0018a2ffaC4bEC5F4c88d2', '0x818ec0A7Fe18Ff94269904fCED6AE3DaE6d6dC0b').call(), f\"../{cfg['abi_path']['pair']}\", web3,)"
   ]
  },
  {
   "cell_type": "code",
   "execution_count": 5,
   "id": "911da119-d945-404c-9505-a2ca66efcf95",
   "metadata": {},
   "outputs": [
    {
     "data": {
      "text/plain": [
       "[37553713368671325325454, 12250567714118906135, 1663054590]"
      ]
     },
     "execution_count": 5,
     "metadata": {},
     "output_type": "execute_result"
    }
   ],
   "source": [
    "eth_wglmr.functions.getReserves().call(block_identifier=1857467)"
   ]
  },
  {
   "cell_type": "code",
   "execution_count": 6,
   "id": "24cc6660-8887-44ba-a1c3-a0563da08c5a",
   "metadata": {},
   "outputs": [
    {
     "data": {
      "text/plain": [
       "'0x0E358838ce72d5e61E0018a2ffaC4bEC5F4c88d2'"
      ]
     },
     "execution_count": 6,
     "metadata": {},
     "output_type": "execute_result"
    }
   ],
   "source": [
    "stella_usdc.functions.token0().call()"
   ]
  },
  {
   "cell_type": "code",
   "execution_count": 7,
   "id": "9f7a94e2-e9fc-4a6c-8660-491805e466f9",
   "metadata": {},
   "outputs": [
    {
     "data": {
      "text/plain": [
       "(160009.37114837766, 1.0046936345297386, 34090718, 34250727.37114838)"
      ]
     },
     "execution_count": 7,
     "metadata": {},
     "output_type": "execute_result"
    }
   ],
   "source": [
    "# r0, r1 ordering is manually done based on whether the LHS or RHS is token0 (see above function call)\n",
    "b = 1857467\n",
    "usdc_in = 34090718\n",
    "r0, r1, _ = usdc_eth.functions.getReserves().call(block_identifier=b)\n",
    "eth_out = quote_with_fees(r0, r1, usdc_in)\n",
    "r1, r0, _ = eth_wglmr.functions.getReserves().call(block_identifier=b)\n",
    "wglmr_out = quote_with_fees(r0, r1, eth_out)\n",
    "r1, r0, _ = wglmr_stella.functions.getReserves().call(block_identifier=b)\n",
    "stella_out = quote_with_fees(r0, r1, wglmr_out)\n",
    "r0, r1, _ = stella_usdc.functions.getReserves().call(block_identifier=b)\n",
    "usdc_out = quote_with_fees(r0, r1, stella_out)\n",
    "# 160009.37114837766 is the expected_out_amount for this order, as noted in the logs (see 'Summary of sent orders')\n",
    "usdc_out - usdc_in, usdc_out / usdc_in, usdc_in, usdc_out"
   ]
  }
 ],
 "metadata": {
  "kernelspec": {
   "display_name": "moonbeam-py",
   "language": "python",
   "name": "moonbeampy"
  },
  "language_info": {
   "codemirror_mode": {
    "name": "ipython",
    "version": 3
   },
   "file_extension": ".py",
   "mimetype": "text/x-python",
   "name": "python",
   "nbconvert_exporter": "python",
   "pygments_lexer": "ipython3",
   "version": "3.10.4"
  }
 },
 "nbformat": 4,
 "nbformat_minor": 5
}
