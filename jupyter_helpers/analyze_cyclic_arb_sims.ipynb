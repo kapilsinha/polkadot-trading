{
 "cells": [
  {
   "cell_type": "code",
   "execution_count": 7,
   "id": "44bb7fd1-4e98-4315-b195-a7cb97ddee16",
   "metadata": {},
   "outputs": [],
   "source": [
    "from collections import defaultdict\n",
    "import matplotlib.pyplot as plt\n",
    "import numpy as np\n",
    "import re"
   ]
  },
  {
   "cell_type": "code",
   "execution_count": 14,
   "id": "6759461d-d963-48d4-8086-443262a299c5",
   "metadata": {},
   "outputs": [
    {
     "name": "stdout",
     "output_type": "stream",
     "text": [
      "('1649922', '1.31', '56678.39')\n",
      "('1649974', '0x818ec0A7Fe18Ff94269904fCED6AE3DaE6d6dC0b', '102.5683365957335', '0.8217206904924155')\n"
     ]
    }
   ],
   "source": [
    "x = '[20220817,13:06:05.208] INFO:root Block 1649922, txn nan: pnl=$1.31, cumulative_pnl=$56678.39'\n",
    "r = re.compile('.*Block (\\d+).*pnl=\\$(\\d+\\.\\d{2}), cumulative_pnl=\\$(\\d+\\.\\d{2})')\n",
    "print(r.match(x).groups())\n",
    "y = \"[20220817,13:06:06.938] INFO:root Block 1649974, txn nan: orders = [Order(order_id=146887, amount_in=100000000, path=['0x818ec0A7Fe18Ff94269904fCED6AE3DaE6d6dC0b', '0xfA9343C3897324496A05fC75abeD6bAC29f8A40f', '0xAcc15dC74880C9944775448304B263D191c6077F', '0x818ec0A7Fe18Ff94269904fCED6AE3DaE6d6dC0b'], block_num=1649974, last_txn_index=None, metadata={'input_usd_notional': 102.5683365957335, 'expected_out_amount': 801144.6005322039, 'expected_pnl': 0.8217206904924155})] | /home/kapil/Desktop/Polkadot-Arb/moonbeam-py/simulation/trading_simulator.py:238\"\n",
    "rr = re.compile('.*Block (\\d+).*path=\\[\\'(0x[a-zA-Z0-9]+).*input_usd_notional\\': (\\d+\\.\\d+).*expected_pnl\\': (\\d+\\.\\d+).*')\n",
    "print(rr.match(y).groups())"
   ]
  },
  {
   "cell_type": "code",
   "execution_count": 58,
   "id": "410cc4e6-ed34-4b2c-bc75-01a31b8b635c",
   "metadata": {},
   "outputs": [],
   "source": [
    "blocks = []\n",
    "pnls = []\n",
    "cum_pnls = []\n",
    "with open('../sim_per_block.out', 'r') as f:\n",
    "    for line in f:\n",
    "        m = r.match(line)\n",
    "        if m is not None:\n",
    "            b = int(m.group(1))\n",
    "            #if b < 1_100_000 or b > 1_530_000:\n",
    "            #    continue\n",
    "            blocks.append(b)\n",
    "            pnls.append(float(m.group(2)))\n",
    "            cum_pnls.append(float(m.group(3)))\n",
    "\n",
    "blocks = np.array(blocks)\n",
    "pnls = np.array(pnls)\n",
    "cum_pnls = np.array(cum_pnls)"
   ]
  },
  {
   "cell_type": "code",
   "execution_count": 59,
   "id": "97910940-5929-4ced-9317-4b2f9b1e9b50",
   "metadata": {},
   "outputs": [
    {
     "data": {
      "image/png": "[encoded data removed]",
      "text/plain": [
       "<Figure size 432x288 with 1 Axes>"
      ]
     },
     "metadata": {
      "needs_background": "light"
     },
     "output_type": "display_data"
    }
   ],
   "source": [
    "plt.plot(np.sort(pnls), np.linspace(0, 1, len(pnls), endpoint=False))\n",
    "plt.xscale('log')"
   ]
  },
  {
   "cell_type": "code",
   "execution_count": 69,
   "id": "37229666-4e4e-475c-a3af-ed2545b649be",
   "metadata": {},
   "outputs": [
    {
     "data": {
      "text/plain": [
       "[<matplotlib.lines.Line2D at 0x7f9454598340>]"
      ]
     },
     "execution_count": 69,
     "metadata": {},
     "output_type": "execute_result"
    },
    {
     "data": {
      "image/png": "[encoded data removed]",
      "text/plain": [
       "<Figure size 432x288 with 1 Axes>"
      ]
     },
     "metadata": {
      "needs_background": "light"
     },
     "output_type": "display_data"
    }
   ],
   "source": [
    "f = (blocks > 1050000) & (blocks < 15300000)\n",
    "plt.plot(blocks[f], cum_pnls[f])"
   ]
  },
  {
   "cell_type": "code",
   "execution_count": 55,
   "id": "5039c16f-4b13-489e-a301-8ddce0cbcd65",
   "metadata": {},
   "outputs": [
    {
     "name": "stdout",
     "output_type": "stream",
     "text": [
      "Token address -> (total profit, # profitable instances\n"
     ]
    },
    {
     "data": {
      "text/plain": [
       "{'0x27292cf0016E5dF1d8b37306B2A98588aCbD6fCA': (681.2704602318524, 82),\n",
       " '0xAcc15dC74880C9944775448304B263D191c6077F': (2599.281907667261, 754),\n",
       " '0x818ec0A7Fe18Ff94269904fCED6AE3DaE6d6dC0b': (9807.111772573107, 591),\n",
       " '0x0E358838ce72d5e61E0018a2ffaC4bEC5F4c88d2': (2972.7332709236252, 552),\n",
       " '0xfA9343C3897324496A05fC75abeD6bAC29f8A40f': (456.1655167492189, 126)}"
      ]
     },
     "execution_count": 55,
     "metadata": {},
     "output_type": "execute_result"
    }
   ],
   "source": [
    "d = defaultdict(list)\n",
    "e = defaultdict(list)\n",
    "with open('../sim_per_block.out', 'r') as f:\n",
    "    for line in f:\n",
    "        m = rr.match(line)\n",
    "        if m is not None:\n",
    "            block = int(m.group(1))\n",
    "            token_address = m.group(2)\n",
    "            input_usd_notional = float(m.group(3))\n",
    "            expected_pnl = float(m.group(4))\n",
    "            if block > 1550000 and block < 1710000 and input_usd_notional < 800000:\n",
    "                d[token_address].append(expected_pnl)\n",
    "                e[token_address].append(input_usd_notional)\n",
    "\n",
    "print('Token address -> (total profit, # profitable instances')\n",
    "{k: (sum(v), len(v)) for k, v in d.items()}"
   ]
  },
  {
   "cell_type": "code",
   "execution_count": 56,
   "id": "759f0cd8-d5df-4617-bda9-f2fbd234ffe9",
   "metadata": {},
   "outputs": [
    {
     "data": {
      "text/plain": [
       "{'0x27292cf0016E5dF1d8b37306B2A98588aCbD6fCA': [114.55570035246494,\n",
       "  119.89145779420116,\n",
       "  123.39941725350022,\n",
       "  694.8477702349293,\n",
       "  1627.1860311347887,\n",
       "  1631.13134002074,\n",
       "  1631.5697076747347],\n",
       " '0xAcc15dC74880C9944775448304B263D191c6077F': [77.60823412741212,\n",
       "  674.2556036559503,\n",
       "  760.515784373165,\n",
       "  859.8311354394565,\n",
       "  962.3163540178056,\n",
       "  1100.2373723017395,\n",
       "  1130.1782602894295],\n",
       " '0x818ec0A7Fe18Ff94269904fCED6AE3DaE6d6dC0b': [103.59892933726863,\n",
       "  1106.9632294160829,\n",
       "  1184.607587327701,\n",
       "  1253.2214559720064,\n",
       "  1286.2258166782053,\n",
       "  1333.7355474054996,\n",
       "  1350.3143925016748],\n",
       " '0x0E358838ce72d5e61E0018a2ffaC4bEC5F4c88d2': [190.3375638486877,\n",
       "  227.47187746406294,\n",
       "  254.283229196107,\n",
       "  266.0668759022833,\n",
       "  274.283538174753,\n",
       "  3086.588414498818,\n",
       "  3114.9146167550766],\n",
       " '0xfA9343C3897324496A05fC75abeD6bAC29f8A40f': [170.89437669154464,\n",
       "  174.18043791113575,\n",
       "  179.69971729266652,\n",
       "  697.9595433405193,\n",
       "  698.1683858689282,\n",
       "  698.1683858689282,\n",
       "  698.1683858689282]}"
      ]
     },
     "execution_count": 56,
     "metadata": {},
     "output_type": "execute_result"
    }
   ],
   "source": [
    "{k: np.percentile(v, [75, 90, 95, 98, 99, 99.9, 100]).tolist() for k, v in e.items()}"
   ]
  },
  {
   "cell_type": "raw",
   "id": "019a1834-7c9e-4910-bdd8-7d31a6c1c9ec",
   "metadata": {},
   "source": [
    "Ideal amounts for the cyclic (ranked by how profitable the token is as a start token)\n",
    "0x818ec0A7Fe18Ff94269904fCED6AE3DaE6d6dC0b - clear winner = USDC_multi -> 1350\n",
    "0xAcc15dC74880C9944775448304B263D191c6077F - close second = wGLMR -> 1250\n",
    "0x0E358838ce72d5e61E0018a2ffaC4bEC5F4c88d2 - and third = STELLA -> 250\n",
    "0x27292cf0016E5dF1d8b37306B2A98588aCbD6fCA - clear fourth = axlATOM -> 150"
   ]
  }
 ],
 "metadata": {
  "kernelspec": {
   "display_name": "moonbeam-py",
   "language": "python",
   "name": "moonbeampy"
  },
  "language_info": {
   "codemirror_mode": {
    "name": "ipython",
    "version": 3
   },
   "file_extension": ".py",
   "mimetype": "text/x-python",
   "name": "python",
   "nbconvert_exporter": "python",
   "pygments_lexer": "ipython3",
   "version": "3.10.4"
  }
 },
 "nbformat": 4,
 "nbformat_minor": 5
}
