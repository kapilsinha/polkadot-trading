{
 "cells": [
  {
   "cell_type": "markdown",
   "id": "a785c4c2-3be2-410a-8a9f-050dd0f6b0ca",
   "metadata": {},
   "source": [
    "# **Front-running is barely profitable on Moonbeam's StellaSwap**"
   ]
  },
  {
   "cell_type": "code",
   "execution_count": 1,
   "id": "7ea22268-83b9-473d-9d69-08e004eaf748",
   "metadata": {},
   "outputs": [],
   "source": [
    "def quote_with_fees(in_reserve, out_reserve, amount_in=1):\n",
    "    amount_out = (amount_in * .9975 * out_reserve) / (in_reserve + amount_in * .9975)\n",
    "    return amount_out\n",
    "\n",
    "def inverse_quote_with_fees(in_reserve, out_reserve, amount_out):\n",
    "    amount_in = (400/399) * amount_out * in_reserve / (out_reserve - amount_out)\n",
    "    return amount_in"
   ]
  },
  {
   "cell_type": "markdown",
   "id": "07959281-b251-4510-9e98-4744f83e2bef",
   "metadata": {},
   "source": [
    "# Motivation: A massive StellaSwap transaction\n",
    "Txn hash: 0x98c8aedcc1b235eff1d8b9e5ad33bbfd3d57357a7f143cf1076262908604c2b1 (WELL -> WGLMR)\n",
    "```\n",
    "swapTokensForExactETH(\n",
    "  amountOut = 10000000000000000000000\n",
    "  amountInMax = 503282689359348937701448\n",
    "  path = ['0x511aB53F793683763E5a8829738301368a2411E3', '0xAcc15dC74880C9944775448304B263D191c6077F']\n",
    ")\n",
    "```"
   ]
  },
  {
   "cell_type": "code",
   "execution_count": 2,
   "id": "dd5c0bec-19dd-437b-b07b-fa1040ffb37b",
   "metadata": {},
   "outputs": [],
   "source": [
    "amountOut = 10000000000000000000000\n",
    "amountInMax = 503282689359348937701448\n",
    "\n",
    "# Starting state\n",
    "reserve0_i = 4040277759327742164205568\n",
    "reserve1_i = 90922656907358195679232\n",
    "# Big transaction\n",
    "amount0_delta = 500527778442395412070400\n",
    "amount1_delta = -10000000000000000000000\n",
    "# State after the large txn (slight rounding error)\n",
    "reserve0_f = 4540805537770137576275968\n",
    "reserve1_f = 80922656907358199873536"
   ]
  },
  {
   "cell_type": "code",
   "execution_count": 3,
   "id": "1cd66d1f-98cf-48f0-9f46-5c377cc732a8",
   "metadata": {},
   "outputs": [
    {
     "name": "stdout",
     "output_type": "stream",
     "text": [
      "Before rate: 44.43642428360197\n",
      "After rate: 56.112907204326454\n",
      "Amount deltas in large transaction: 500527778442395412070400 -9999999999999995805696\n"
     ]
    }
   ],
   "source": [
    "# Sanity checks\n",
    "assert(quote_with_fees(reserve0_i, reserve1_i, amount0_delta) + amount1_delta == 0)\n",
    "assert(inverse_quote_with_fees(reserve0_i, reserve1_i, -amount1_delta) - amount0_delta == 0)\n",
    "\n",
    "print('Before rate:', reserve0_i / reserve1_i) # 44.43642428360197\n",
    "print('After rate:', reserve0_f / reserve1_f) # 56.112907204326454\n",
    "\n",
    "# Note that this has slight rounding error\n",
    "print('Amount deltas in large transaction:', reserve0_f - reserve0_i, reserve1_f - reserve1_i) # 500527778442395412070400 -9999999999999995805696"
   ]
  },
  {
   "cell_type": "code",
   "execution_count": 4,
   "id": "f05a7e3d-07b7-4522-a316-22a1c28fcfea",
   "metadata": {},
   "outputs": [],
   "source": [
    "# At the time, each token0 (WELL) was worth roughly .012746 DAI units, which is .012746 * 1e-18 USD and each WGLMR was worth 0.715208 DAI units\n",
    "token0_to_usd = .012746 * 1e-18\n",
    "token1_to_usd = 0.715208 * 1e-18"
   ]
  },
  {
   "cell_type": "markdown",
   "id": "5ffb668d-06a4-451f-918d-1e1f9847ab92",
   "metadata": {},
   "source": [
    "# Front-run strategy: Sandwich trade\n",
    "1. Swap token0 for token1 before the large transaction\n",
    "2. Let the large transaction occur, driving the value of token0 up and token1 down\n",
    "3. Swap token1 for token0 after"
   ]
  },
  {
   "cell_type": "code",
   "execution_count": 5,
   "id": "e11fd953-cf51-4aee-93af-5f45788c604b",
   "metadata": {},
   "outputs": [
    {
     "name": "stdout",
     "output_type": "stream",
     "text": [
      "3rd party's proportion of amountInMax: 0.999754115344432\n",
      "\n",
      "Result\n",
      "A) [Our front-run]       token0_in:  1e+22  (-$127.46)\n",
      "A) [Our front-run]       token1_out: 2.2392516135250618e+20 ($160.15)\n",
      "B) [3rd party large txn] token0_in:  5.031589398686225e+23  (-$6413.26)\n",
      "B) [3rd party large txn] token1_out: 10000000000000000000000 ($7152.08)\n",
      "C) [Our swap after]      token1_in:  2.2392516135250618e+20  (-$160.15)\n",
      "C) [Our swap after]      token0_out: 1.2568630960834612e+22 ($160.20)\n",
      "Net WELL tokens gain (discounting gas fees and potential slippage): 2.5686309608346123e+21 ($32.74)\n"
     ]
    }
   ],
   "source": [
    "# Front-run strategy -> sandwich: Swap token1 for token0 before the giant transaction, then swap token0 for token1 after\n",
    "r0, r1 = reserve0_i, reserve1_i\n",
    "\n",
    "# A) Front-run large transaction: swap token0 -> token1\n",
    "A_amount_token0_in = 1e22\n",
    "A_amount_token1_out = quote_with_fees(r0, r1, amount_in=A_amount_token0_in)\n",
    "r0 += A_amount_token0_in\n",
    "r1 -= A_amount_token1_out\n",
    "\n",
    "# B) Large transaction occurs\n",
    "B_amount_token1_out = amountOut\n",
    "B_amount_token0_in = inverse_quote_with_fees(r0, r1, B_amount_token1_out)\n",
    "assert(B_amount_token0_in <= amountInMax) # otherwise their transaction will be rejected!\n",
    "print('3rd party\\'s proportion of amountInMax:', B_amount_token0_in / amountInMax)\n",
    "r0 += B_amount_token0_in\n",
    "r1 -= B_amount_token1_out\n",
    "\n",
    "# C) We swap in the reverse direction (token1 -> token0); for simplicity let's say we swap away all the token1's we acquired\n",
    "C_amount_token1_in = A_amount_token1_out\n",
    "C_amount_token0_out = quote_with_fees(r1, r0, C_amount_token1_in)\n",
    "\n",
    "# Net gain:\n",
    "print('\\nResult')\n",
    "print(f'A) [Our front-run]       token0_in:  {A_amount_token0_in}  (-${A_amount_token0_in * token0_to_usd:.2f})')\n",
    "print(f'A) [Our front-run]       token1_out: {A_amount_token1_out} (${A_amount_token1_out * token1_to_usd:.2f})')\n",
    "print(f'B) [3rd party large txn] token0_in:  {B_amount_token0_in}  (-${B_amount_token0_in * token0_to_usd:.2f})')\n",
    "print(f'B) [3rd party large txn] token1_out: {B_amount_token1_out} (${B_amount_token1_out * token1_to_usd:.2f})')\n",
    "print(f'C) [Our swap after]      token1_in:  {C_amount_token1_in}  (-${C_amount_token1_in * token1_to_usd:.2f})')\n",
    "print(f'C) [Our swap after]      token0_out: {C_amount_token0_out} (${C_amount_token0_out * token0_to_usd:.2f})')\n",
    "\n",
    "token0_gain = C_amount_token0_out - A_amount_token0_in\n",
    "print(f'Net WELL tokens gain (discounting gas fees and potential slippage): {token0_gain} (${token0_gain * token0_to_usd:.2f})')"
   ]
  },
  {
   "cell_type": "markdown",
   "id": "43173e80-20c8-4ee4-a5c6-0dd6cb202eea",
   "metadata": {},
   "source": [
    "# Conclusions\n",
    "Front-running large transactions can clearly be profitable, but I think there are too few such transactions for it to be viable and worth the development effort.\n",
    "\n",
    "## What is a 'large transaction'?\n",
    "A 'large transaction' needs to have a relatively high dollar notional amount (so our profit is sizeable) AND also change the rate significantly (otherwise we lose revenue in fees). For particularly large liquidity pools (e.g. xcDOT/wGLMR), the latter becomes less likely. In this sense, we may actually **prefer front-running in less liquid pools** (see case 2 in the appendix).\n",
    "\n",
    "## What we need to front-run successfully\n",
    "In order to pull it off, we **need to be able to sandwich transactions** (most importantly, place a transaction before one in the mempool). I am not sure if the best way is to set higher gas limits, use our collator to reorder transactions and somehow get that ordering finalized ('MEV'), offer tips (https://wiki.polkadot.network/docs/learn-transaction-fees), or something else.\n",
    "\n",
    "A little bit of math above can yield a formula to compute the ideal amount of tokens to swap, in order to maximize profit in such a sandwich trade.\n",
    "\n",
    "## Caveats/Cons\n",
    "1. Front-running will be very apparent on the blockchain and may be frowned upon. It is likely that these third parties may change their trading behavior after seeing our trades.\n",
    "2. Our profit is particularly sensitive to the 'limit prices' (amountInMax, amountOutMin) so tighter bounds on those will cut deeply.\n",
    "3. This strategy cannot scale with our amount of capital. There is a limited amount of money that can be made on each front-run transaction, bounded by the limit price of the swap we are front-running.\n",
    "4. StellaSwap has the lowest fees of any DEX on Moonbeam, at 0.25% (most others are at 0.3%). It will thus be even more difficult to extend front-running to other venues.\n",
    "\n",
    "## **How profitable is front-running then?**\n",
    "Note that StellaSwap trading volume varies drastically day-to-day (some days are 10x other days, according to https://analytics.stellaswap.com/) but was at a low level for the analyzed period. Front-running is obviously more profitable when there is higher trading volume.\n",
    "\n",
    "Disclaimer: I have not done a rigorous analysis of the data to calculate potential PnL (this can be done but will take several full days of effort), but I have done several 'case studies' attached in the appendix.\n",
    "In a ~15 day span between June 24 and July 8 (blocks 1,300,000 - 1,400,000), **of all swaps that changed the rate by 2.5% change or more** (see case study 4 for the choice of this threshold),\n",
    "```\n",
    ">$250: 1.03% of all swaps -> 318 swaps\n",
    ">$500: 0.77% of all swaps -> 240 swaps\n",
    ">$750: 0.62% of all swaps -> 193 swaps\n",
    ">$1000: 0.48% of all swaps -> 148 swaps\n",
    ">$1250: 0.32% of all swaps -> 99 swaps\n",
    ">$1500: 0.26% of all swaps -> 80 swaps\n",
    ">$1750: 0.19% of all swaps -> 60 swaps\n",
    ">$2000: 0.15% of all swaps -> 48 swaps\n",
    "```\n",
    "Again based on case study 4, we very roughly estimate a $\\$$5 profit on each front-run opportunity of notional value $\\$$1000. 148 * $\\$$5 = $\\$$740; even after adding the larger notional value or rate delta swaps, we likely to remain at less than a $\\$$1000 PnL over 15 days i.e. <$\\$$66 PnL per day."
   ]
  },
  {
   "cell_type": "markdown",
   "id": "e8228704-797d-495f-8c74-407544bb49e7",
   "metadata": {},
   "source": [
    "# Appendix: analyzing a few more large transactions"
   ]
  },
  {
   "cell_type": "markdown",
   "id": "3347ade3-8629-4df5-b0f1-c9e4a6540e81",
   "metadata": {},
   "source": [
    "### Case 1: Another best case scenario - A $1000 notional swap that changes the exchange rate significantly"
   ]
  },
  {
   "cell_type": "code",
   "execution_count": 6,
   "id": "d009608e-3bea-4783-bf39-907685903fb3",
   "metadata": {},
   "outputs": [
    {
     "name": "stdout",
     "output_type": "stream",
     "text": [
      "Proportion of new rate to old rate: 1.0262138909079448\n",
      "3rd party's proportion of amountOutMin to amountOut: 0.999397653739576\n",
      "\n",
      "Result\n",
      "A) [Our front-run]       token0_in:  600000000.0  (-$610.55)\n",
      "A) [Our front-run]       token1_out: 8.829286011215053e+20 ($604.25)\n",
      "B) [3rd party large txn] token0_in:  1000000000  (-$1017.59)\n",
      "B) [3rd party large txn] token1_out: 1.4412813773160613e+21 ($986.37)\n",
      "C) [Our swap after]      token1_in:  8.829286011215053e+20  (-$604.25)\n",
      "C) [Our swap after]      token0_out: 612620193.7075363 ($623.40)\n",
      "Net USDC tokens gain (discounting gas fees and potential slippage): 12620193.70753634 ($12.84)\n"
     ]
    }
   ],
   "source": [
    "# Txn hash: 0xc1c03e52f6c3b2bc6a221b19b06743674abe733d818fa337e3ae5a15814089e0 (USDC -> WGLMR)\n",
    "# swapExactTokensForETH\n",
    "\n",
    "token0_to_usd = 1017588866449.328125 * 1e-18\n",
    "token1_to_usd = 0.684373 * 1e-18\n",
    "\n",
    "amountIn = 1000000000\n",
    "amountOutMin = 1440413226868216113221\n",
    "path = ['0x818ec0A7Fe18Ff94269904fCED6AE3DaE6d6dC0b', '0xAcc15dC74880C9944775448304B263D191c6077F']\n",
    "\n",
    "r0 = 76072981111\n",
    "r1 = 113108510548453041897472\n",
    "print('Proportion of new rate to old rate:', ( (r0 + amountIn) / (r1 - amountOutMin) ) / (r0/ r1) )\n",
    "\n",
    "# A) Front-run large transaction: swap token0 -> token1\n",
    "A_amount_token0_in = 6e8\n",
    "A_amount_token1_out = quote_with_fees(r0, r1, amount_in=A_amount_token0_in)\n",
    "r0 += A_amount_token0_in\n",
    "r1 -= A_amount_token1_out\n",
    "\n",
    "# B) Large transaction occurs\n",
    "B_amount_token0_in = amountIn\n",
    "B_amount_token1_out = quote_with_fees(r0, r1, B_amount_token0_in)\n",
    "assert(B_amount_token1_out >= amountOutMin) # otherwise their transaction will be rejected!\n",
    "print('3rd party\\'s proportion of amountOutMin to amountOut:', amountOutMin / B_amount_token1_out)\n",
    "r0 += B_amount_token0_in\n",
    "r1 -= B_amount_token1_out\n",
    "\n",
    "# C) We swap in the reverse direction (token1 -> token0); for simplicity let's say we swap away all the token1's we acquired\n",
    "C_amount_token1_in = A_amount_token1_out\n",
    "C_amount_token0_out = quote_with_fees(r1, r0, C_amount_token1_in)\n",
    "\n",
    "# Net gain:\n",
    "print('\\nResult')\n",
    "print(f'A) [Our front-run]       token0_in:  {A_amount_token0_in}  (-${A_amount_token0_in * token0_to_usd:.2f})')\n",
    "print(f'A) [Our front-run]       token1_out: {A_amount_token1_out} (${A_amount_token1_out * token1_to_usd:.2f})')\n",
    "print(f'B) [3rd party large txn] token0_in:  {B_amount_token0_in}  (-${B_amount_token0_in * token0_to_usd:.2f})')\n",
    "print(f'B) [3rd party large txn] token1_out: {B_amount_token1_out} (${B_amount_token1_out * token1_to_usd:.2f})')\n",
    "print(f'C) [Our swap after]      token1_in:  {C_amount_token1_in}  (-${C_amount_token1_in * token1_to_usd:.2f})')\n",
    "print(f'C) [Our swap after]      token0_out: {C_amount_token0_out} (${C_amount_token0_out * token0_to_usd:.2f})')\n",
    "\n",
    "token0_gain = C_amount_token0_out - A_amount_token0_in\n",
    "print(f'Net USDC tokens gain (discounting gas fees and potential slippage): {token0_gain} (${token0_gain * token0_to_usd:.2f})')"
   ]
  },
  {
   "cell_type": "markdown",
   "id": "e682edbc-17bf-489e-ad55-375f2c05c149",
   "metadata": {},
   "source": [
    "### Case 2: Lose money when front-running a $1000 notional swap that does *not* change the rate significantly"
   ]
  },
  {
   "cell_type": "code",
   "execution_count": 7,
   "id": "8398acce-efad-4501-9db6-0d2a03ebbeca",
   "metadata": {},
   "outputs": [
    {
     "name": "stdout",
     "output_type": "stream",
     "text": [
      "Proportion of new rate to old rate: 1.001018390706798\n",
      "3rd party's proportion of amountOutMin to amountOut: 0.9998117713818307\n",
      "\n",
      "Result\n",
      "A) [Our front-run]       token1_in:  7000000000000.0  (-$5687.65)\n",
      "A) [Our front-run]       token0_out: 8.299272685592391e+21 ($5664.25)\n",
      "B) [3rd party large txn] token1_in:  1350000000000  (-$1096.90)\n",
      "B) [3rd party large txn] token0_out: 1.5955322148850958e+21 ($1088.95)\n",
      "C) [Our swap after]      token0_in:  8.299272685592391e+21  (-$5664.25)\n",
      "C) [Our swap after]      token1_out: 6972220188000.216 ($5665.08)\n",
      "Net WGLMR tokens gain (discounting gas fees and potential slippage): -27779811999.78418 ($-22.57)\n",
      "We actually lose money here because this liquidity pool is too large; xcDOT/WGLMR is the largest liquidity pool by far according to analytics.stellaswap.com/\n"
     ]
    }
   ],
   "source": [
    "# Txn hash: 0xd4bb81de3f33b015fb03a8331eabe4ea9ec27c997da9dcf77dcf66cbce1939b6 (Reverse xcDOT -> WGLMR)\n",
    "# swapExactTokensForETH\n",
    "\n",
    "token0_to_usd = 0.682500 * 1e-18\n",
    "token1_to_usd = 812521545.659391 * 1e-18\n",
    "\n",
    "amountIn = 1350000000000\n",
    "amountOutMin = 1595231890061043355982\n",
    "path = ['0xFfFFfFff1FcaCBd218EDc0EbA20Fc2308C778080', '0xAcc15dC74880C9944775448304B263D191c6077F']\n",
    "\n",
    "r0 = 3147793525006846568431616\n",
    "r1 = 2641378280640074\n",
    "\n",
    "print('Proportion of new rate to old rate:', ( (r1 + amountIn) / (r0 - amountOutMin) ) / (r1/r0))\n",
    "\n",
    "# A) Front-run large transaction: swap token1 -> token0\n",
    "A_amount_token1_in = 7e12\n",
    "A_amount_token0_out = quote_with_fees(r1, r0, amount_in=A_amount_token1_in)\n",
    "r0 -= A_amount_token0_out\n",
    "r1 += A_amount_token1_in\n",
    "\n",
    "# B) Large transaction occurs: token1 -> token0\n",
    "B_amount_token1_in = amountIn\n",
    "B_amount_token0_out = quote_with_fees(r1, r0, B_amount_token1_in)\n",
    "assert(B_amount_token0_out >= amountOutMin) # otherwise their transaction will be rejected!\n",
    "print('3rd party\\'s proportion of amountOutMin to amountOut:', amountOutMin / B_amount_token0_out)\n",
    "r0 -= B_amount_token0_out\n",
    "r1 += B_amount_token1_in\n",
    "\n",
    "# C) We swap in the reverse direction (token0 -> token1); for simplicity let's say we swap away all the token1's we acquired\n",
    "C_amount_token0_in = A_amount_token0_out\n",
    "C_amount_token1_out = quote_with_fees(r0, r1, C_amount_token0_in)\n",
    "\n",
    "# Net gain:\n",
    "print('\\nResult')\n",
    "print(f'A) [Our front-run]       token1_in:  {A_amount_token1_in}  (-${A_amount_token1_in * token1_to_usd:.2f})')\n",
    "print(f'A) [Our front-run]       token0_out: {A_amount_token0_out} (${A_amount_token0_out * token0_to_usd:.2f})')\n",
    "print(f'B) [3rd party large txn] token1_in:  {B_amount_token1_in}  (-${B_amount_token1_in * token1_to_usd:.2f})')\n",
    "print(f'B) [3rd party large txn] token0_out: {B_amount_token0_out} (${B_amount_token0_out * token0_to_usd:.2f})')\n",
    "print(f'C) [Our swap after]      token0_in:  {C_amount_token0_in}  (-${C_amount_token0_in * token0_to_usd:.2f})')\n",
    "print(f'C) [Our swap after]      token1_out: {C_amount_token1_out} (${C_amount_token1_out * token1_to_usd:.2f})')\n",
    "\n",
    "token1_gain = C_amount_token1_out - A_amount_token1_in\n",
    "print(f'Net WGLMR tokens gain (discounting gas fees and potential slippage): {token1_gain} (${token1_gain * token1_to_usd:.2f})')\n",
    "print('We actually lose money here because this liquidity pool is too large; xcDOT/WGLMR is the largest liquidity pool by far according to analytics.stellaswap.com/')"
   ]
  },
  {
   "cell_type": "markdown",
   "id": "37fec321-2097-4ca1-b5e3-5e6ff7e6afdb",
   "metadata": {},
   "source": [
    "### Case 3: Break even on a $300 notional swap with a 0.75% exchange rate delta"
   ]
  },
  {
   "cell_type": "code",
   "execution_count": 8,
   "id": "a30327d3-f2c4-4dae-80ce-cc9169fb468c",
   "metadata": {},
   "outputs": [
    {
     "name": "stdout",
     "output_type": "stream",
     "text": [
      "Proportion of new rate to old rate: 1.0076316991161764\n",
      "3rd party's proportion of amountOutMin to amountOut: 0.9990878724928451\n",
      "\n",
      "Result\n",
      "A) [Our front-run]       token1_in:  5e+20  (-$303.17)\n",
      "A) [Our front-run]       token0_out: 1.822021191249463e+19 ($304.23)\n",
      "B) [3rd party large txn] token1_in:  472148999999999967232  (-$286.28)\n",
      "B) [3rd party large txn] token0_out: 1.707083500869722e+19 ($285.04)\n",
      "C) [Our swap after]      token0_in:  1.822021191249463e+19  (-$304.23)\n",
      "C) [Our swap after]      token1_out: 5.013040568569609e+20 ($303.96)\n",
      "Net WGLMR tokens gain (discounting gas fees and potential slippage): 1.304056856960893e+18 ($0.79)\n",
      "We effectively break even here\n"
     ]
    }
   ],
   "source": [
    "# Txn hash: 0x44a5c0224d173b53f6a72f13e77992d3b69f498e7c9907c7acf838c9bc09679f (Reverse AVAX -> WGLMR)\n",
    "# swapExactTokensForTokens\n",
    "\n",
    "token0_to_usd = 16.697423 * 1e-18\n",
    "token1_to_usd = 0.606330 * 1e-18\n",
    "\n",
    "amountIn = 472148999999999967232\n",
    "amountOutMin = 17055264230515683799\n",
    "path = ['0xAcc15dC74880C9944775448304B263D191c6077F', '0x4792C1EcB969B036eb51330c63bD27899A13D84e']\n",
    "\n",
    "r0 = 4521096583621023105024\n",
    "r1 = 123259246444304522018816\n",
    "\n",
    "print('Proportion of new rate to old rate:', ( (r1 + amountIn) / (r0 - amountOutMin) ) / (r1/r0) )\n",
    "\n",
    "# A) Front-run large transaction: swap token1 -> token0\n",
    "A_amount_token1_in = 5e20\n",
    "A_amount_token0_out = quote_with_fees(r1, r0, amount_in=A_amount_token1_in)\n",
    "r0 -= A_amount_token0_out\n",
    "r1 += A_amount_token1_in\n",
    "\n",
    "# B) Large transaction occurs: token1 -> token0\n",
    "B_amount_token1_in = amountIn\n",
    "B_amount_token0_out = quote_with_fees(r1, r0, B_amount_token1_in)\n",
    "assert(B_amount_token0_out >= amountOutMin) # otherwise their transaction will be rejected!\n",
    "print('3rd party\\'s proportion of amountOutMin to amountOut:', amountOutMin / B_amount_token0_out)\n",
    "r0 -= B_amount_token0_out\n",
    "r1 += B_amount_token1_in\n",
    "\n",
    "# C) We swap in the reverse direction (token0 -> token1); for simplicity let's say we swap away all the token1's we acquired\n",
    "C_amount_token0_in = A_amount_token0_out\n",
    "C_amount_token1_out = quote_with_fees(r0, r1, C_amount_token0_in)\n",
    "\n",
    "# Net gain:\n",
    "print('\\nResult')\n",
    "print(f'A) [Our front-run]       token1_in:  {A_amount_token1_in}  (-${A_amount_token1_in * token1_to_usd:.2f})')\n",
    "print(f'A) [Our front-run]       token0_out: {A_amount_token0_out} (${A_amount_token0_out * token0_to_usd:.2f})')\n",
    "print(f'B) [3rd party large txn] token1_in:  {B_amount_token1_in}  (-${B_amount_token1_in * token1_to_usd:.2f})')\n",
    "print(f'B) [3rd party large txn] token0_out: {B_amount_token0_out} (${B_amount_token0_out * token0_to_usd:.2f})')\n",
    "print(f'C) [Our swap after]      token0_in:  {C_amount_token0_in}  (-${C_amount_token0_in * token0_to_usd:.2f})')\n",
    "print(f'C) [Our swap after]      token1_out: {C_amount_token1_out} (${C_amount_token1_out * token1_to_usd:.2f})')\n",
    "\n",
    "token1_gain = C_amount_token1_out - A_amount_token1_in\n",
    "print(f'Net WGLMR tokens gain (discounting gas fees and potential slippage): {token1_gain} (${token1_gain * token1_to_usd:.2f})')\n",
    "print('We effectively break even here')"
   ]
  },
  {
   "cell_type": "markdown",
   "id": "5d8aedd0-5d04-473f-ae66-4966f1e6b93f",
   "metadata": {},
   "source": [
    "### Case 4: Most realistic scenario - A \\\\$5 profit when front-running a $1000 notional swap with a 2.5% rate delta"
   ]
  },
  {
   "cell_type": "code",
   "execution_count": 9,
   "id": "3cb88fba-8ac9-4ed0-abae-6ed3ea2c9c5c",
   "metadata": {},
   "outputs": [
    {
     "name": "stdout",
     "output_type": "stream",
     "text": [
      "Proportion of new rate to old rate: 1.0263413478490346\n",
      "3rd party's proportion of amountIn to amountInMax: 0.9990921307531818\n",
      "\n",
      "Result\n",
      "A) [Our front-run]       token0_in:  25000000.0  (-$201.06)\n",
      "A) [Our front-run]       token1_out: 2.9071274214771343e+20 ($205.31)\n",
      "B) [3rd party large txn] token0_in:  129517240.43192384  (-$1041.64)\n",
      "B) [3rd party large txn] token1_out: 1482914392357657903104 ($1047.27)\n",
      "C) [Our swap after]      token1_in:  2.9071274214771343e+20  (-$205.31)\n",
      "C) [Our swap after]      token0_out: 25529588.85103076 ($205.32)\n",
      "Net axlATOM tokens gain (discounting gas fees and potential slippage): 529588.8510307595 ($4.26)\n"
     ]
    }
   ],
   "source": [
    "# Txn hash: 0x8c35343b6920d3956ff69950df113fa625fafd7550c24cda28b79d42a89ee7a0 (axlATOM -> WGLMR)\n",
    "# swapTokensForExactTokens\n",
    "# This txn crosses two liquidity pools; we front-run the swap on just the first liquidity pool\n",
    "\n",
    "amountOut = 1482914392357657903104\n",
    "amountInMax = 129634932\n",
    "\n",
    "token0_to_usd = 8042484633203.593750 * 1e-18\n",
    "token1_to_usd = 0.706221 * 1e-18\n",
    "\n",
    "r0 = 9865163938\n",
    "r1 = 115295378813434539802624\n",
    "\n",
    "print('Proportion of new rate to old rate:', ( (r0 + amountInMax) / (r1 - amountOut) ) / (r0/r1) )\n",
    "\n",
    "# A) Front-run large transaction: swap token0 -> token1\n",
    "A_amount_token0_in = 2.5e7\n",
    "A_amount_token1_out = quote_with_fees(r0, r1, amount_in=A_amount_token0_in)\n",
    "r0 += A_amount_token0_in\n",
    "r1 -= A_amount_token1_out\n",
    "\n",
    "# B) Large transaction occurs\n",
    "B_amount_token1_out = amountOut\n",
    "B_amount_token0_in = inverse_quote_with_fees(r0, r1, B_amount_token1_out)\n",
    "assert(B_amount_token0_in <= amountInMax) # otherwise their transaction will be rejected!\n",
    "print('3rd party\\'s proportion of amountIn to amountInMax:', B_amount_token0_in / amountInMax)\n",
    "r0 += B_amount_token0_in\n",
    "r1 -= B_amount_token1_out\n",
    "\n",
    "# C) We swap in the reverse direction (token1 -> token0); for simplicity let's say we swap away all the token1's we acquired\n",
    "C_amount_token1_in = A_amount_token1_out\n",
    "C_amount_token0_out = quote_with_fees(r1, r0, C_amount_token1_in)\n",
    "\n",
    "# Net gain:\n",
    "print('\\nResult')\n",
    "print(f'A) [Our front-run]       token0_in:  {A_amount_token0_in}  (-${A_amount_token0_in * token0_to_usd:.2f})')\n",
    "print(f'A) [Our front-run]       token1_out: {A_amount_token1_out} (${A_amount_token1_out * token1_to_usd:.2f})')\n",
    "print(f'B) [3rd party large txn] token0_in:  {B_amount_token0_in}  (-${B_amount_token0_in * token0_to_usd:.2f})')\n",
    "print(f'B) [3rd party large txn] token1_out: {B_amount_token1_out} (${B_amount_token1_out * token1_to_usd:.2f})')\n",
    "print(f'C) [Our swap after]      token1_in:  {C_amount_token1_in}  (-${C_amount_token1_in * token1_to_usd:.2f})')\n",
    "print(f'C) [Our swap after]      token0_out: {C_amount_token0_out} (${C_amount_token0_out * token0_to_usd:.2f})')\n",
    "\n",
    "token0_gain = C_amount_token0_out - A_amount_token0_in\n",
    "print(f'Net axlATOM tokens gain (discounting gas fees and potential slippage): {token0_gain} (${token0_gain * token0_to_usd:.2f})')"
   ]
  }
 ],
 "metadata": {
  "kernelspec": {
   "display_name": "moonbeam-py",
   "language": "python",
   "name": "moonbeampy"
  },
  "language_info": {
   "codemirror_mode": {
    "name": "ipython",
    "version": 3
   },
   "file_extension": ".py",
   "mimetype": "text/x-python",
   "name": "python",
   "nbconvert_exporter": "python",
   "pygments_lexer": "ipython3",
   "version": "3.10.4"
  }
 },
 "nbformat": 4,
 "nbformat_minor": 5
}
