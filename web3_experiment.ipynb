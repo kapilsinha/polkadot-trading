{
 "cells": [
  {
   "cell_type": "code",
   "execution_count": null,
   "id": "bbe58293-6116-434d-8fea-ff612e28973b",
   "metadata": {},
   "outputs": [],
   "source": [
    "from common.helpers import load_config, load_contract, retry_call_wrapper\n",
    "from live_trader.order import Order\n",
    "\n",
    "from web3 import Web3\n",
    "\n",
    "import datetime\n",
    "from functools import lru_cache\n",
    "import json\n",
    "import logging\n",
    "import pandas as pd\n",
    "from timer import timer"
   ]
  },
  {
   "cell_type": "code",
   "execution_count": null,
   "id": "c66b2d23-8720-4419-865b-cf9af2c98e52",
   "metadata": {},
   "outputs": [],
   "source": [
    "logging.basicConfig(level=logging.INFO)\n",
    "timer.set_level(logging.INFO)\n",
    "\n",
    "config = load_config()\n",
    "# web3 = Web3(Web3.WebsocketProvider(config['rpc_endpoint']['wss']['dwellir']))\n",
    "web3 = Web3(Web3.HTTPProvider(config['rpc_endpoint']['http']['dwellir']))\n",
    "cfg = config['venue']['stellaswap']\n",
    "router = load_contract(\n",
    "    cfg['contract_address']['router'],\n",
    "    cfg['abi_path']['router'],\n",
    "    web3,\n",
    ")\n",
    "factory = load_contract(\n",
    "    cfg['contract_address']['factory'],\n",
    "    cfg['abi_path']['factory'],\n",
    "    web3,\n",
    ")\n",
    "token = load_contract(\n",
    "    cfg['contract_address']['token'],\n",
    "    cfg['abi_path']['token'],\n",
    "    web3,\n",
    ")\n",
    "wallet_address = '0x05a81d8564a3eA298660e34e03E5Eff9a29d7a2A'"
   ]
  },
  {
   "cell_type": "code",
   "execution_count": null,
   "id": "88b00f11-ff37-406b-a7ba-09e5794b9bc2",
   "metadata": {},
   "outputs": [],
   "source": [
    "print(datetime.datetime.now().strftime('%Y-%m-%d %H:%M:%S'))\n",
    "block_latest = 1950781 #'latest'\n",
    "token_addrs = config['venue']['stellaswap']['token_trading_universe']\n",
    "dot_usd_value = 6.43e-10 # changes daily but usually is around this\n",
    "glmr_usd_value = 0.4617e-18 # changes daily but usually is around this\n",
    "for token_addr in token_addrs:\n",
    "    token = load_contract(token_addr, cfg['abi_path']['token'], web3,)\n",
    "    start_balance = token.functions.balanceOf(wallet_address).call(block_identifier=1923058)\n",
    "    cur_balance = token.functions.balanceOf(wallet_address).call(block_identifier=block_latest)\n",
    "    if token_addr == '0xAcc15dC74880C9944775448304B263D191c6077F':\n",
    "        glmr_usd_delta = (cur_balance - start_balance) * glmr_usd_value\n",
    "    if token_addr == '0xFfFFfFff1FcaCBd218EDc0EbA20Fc2308C778080':\n",
    "        dot_usd_delta = (cur_balance - start_balance) * dot_usd_value\n",
    "    pct_delta = 100 * (cur_balance - start_balance) / start_balance\n",
    "    print(f'{token_addr}: delta={pct_delta:0.2f}%, cur={cur_balance}, start={start_balance}')\n",
    "    # token.functions.allowance(wallet_address, '0x70085a09D30D6f8C4ecF6eE10120d1847383BB57').call()\n",
    "# Started with $40.14 of WGLMR and $52.88\n",
    "\n",
    "start_glmr_balance = web3.eth.get_balance(wallet_address, block_identifier=1923058)\n",
    "end_glmr_balance = web3.eth.get_balance(wallet_address, block_identifier=block_latest)\n",
    "print('Start: GLMR balance =', start_glmr_balance, 'nonce =', web3.eth.get_transaction_count(wallet_address, 1923058))\n",
    "print('End: GLMR balance =', end_glmr_balance, 'nonce =', web3.eth.get_transaction_count(wallet_address, block_latest))\n",
    "\n",
    "print(f'Total USD delta (no fees): ${dot_usd_delta + glmr_usd_delta:0.2f} (GLMR delta = ${glmr_usd_delta:0.2f}, DOT delta = ${dot_usd_delta:0.2f})')\n",
    "glmr_usd_delta += (end_glmr_balance - start_glmr_balance) * glmr_usd_value\n",
    "print(f'Total USD delta (with fees): ${dot_usd_delta + glmr_usd_delta:0.2f} (GLMR delta = ${glmr_usd_delta:0.2f}, DOT delta = ${dot_usd_delta:0.2f})')"
   ]
  },
  {
   "cell_type": "code",
   "execution_count": null,
   "id": "5544a9da-9fb0-4d80-8e15-2e6f306ba158",
   "metadata": {},
   "outputs": [],
   "source": [
    "print('GLMR balance =', web3.eth.get_balance(wallet_address, block_identifier=1923058) / 1e18, 'nonce =', web3.eth.get_transaction_count(wallet_address, 1923058))\n",
    "print('GLMR balance =', web3.eth.get_balance(wallet_address, block_identifier='latest') / 1e18, 'nonce =', web3.eth.get_transaction_count(wallet_address))"
   ]
  },
  {
   "cell_type": "code",
   "execution_count": null,
   "id": "18169686-8893-42b9-a313-7fb4c3e8744b",
   "metadata": {},
   "outputs": [],
   "source": [
    "txn_hash = '0x6d5e373e7944b63f249823ce0d7bdd3f1fc608952ebc017e2a73e6e6e688c732'\n",
    "web3.eth.get_transaction_receipt(txn_hash)"
   ]
  },
  {
   "cell_type": "code",
   "execution_count": null,
   "id": "e7316c97-bbab-4188-952c-b00116eecffb",
   "metadata": {},
   "outputs": [],
   "source": [
    "wglmr = load_contract(\n",
    "    '0xAcc15dC74880C9944775448304B263D191c6077F',\n",
    "    cfg['abi_path']['token'],\n",
    "    web3,\n",
    ")"
   ]
  },
  {
   "cell_type": "code",
   "execution_count": null,
   "id": "00d984e0-8cc9-4127-984c-191a35c2fad1",
   "metadata": {},
   "outputs": [],
   "source": [
    "order = Order(\n",
    "    amount_in=2293619362107510,\n",
    "    amount_out_min=1,\n",
    "    path=[\n",
    "        '0xAcc15dC74880C9944775448304B263D191c6077F',\n",
    "        '0x0E358838ce72d5e61E0018a2ffaC4bEC5F4c88d2',\n",
    "        # '0x818ec0A7Fe18Ff94269904fCED6AE3DaE6d6dC0b',\n",
    "        # '0xfA9343C3897324496A05fC75abeD6bAC29f8A40f',\n",
    "        '0xAcc15dC74880C9944775448304B263D191c6077F'\n",
    "    ],\n",
    "    to='0x05a81d8564a3eA298660e34e03E5Eff9a29d7a2A',\n",
    "    deadline=1763107864,\n",
    "    order_id=2,\n",
    "    metadata={'input_usd_notional': 12.085636165564067, 'expected_out_amount': 3.955491491353395e+16, 'expected_pnl': 0.020842443088096307}\n",
    ")\n",
    "order = Order(\n",
    "    amount_in=2293619362107510,\n",
    "    amount_out_min=1,\n",
    "    path=[\n",
    "        '0xAcc15dC74880C9944775448304B263D191c6077F',\n",
    "        '0x0E358838ce72d5e61E0018a2ffaC4bEC5F4c88d2',\n",
    "        '0x818ec0A7Fe18Ff94269904fCED6AE3DaE6d6dC0b',\n",
    "        '0xfA9343C3897324496A05fC75abeD6bAC29f8A40f',\n",
    "        '0xAcc15dC74880C9944775448304B263D191c6077F'\n",
    "    ],\n",
    "    to='0x05a81d8564a3eA298660e34e03E5Eff9a29d7a2A',\n",
    "    deadline=1763107864,\n",
    "    order_id=2,\n",
    "    metadata={'input_usd_notional': 12.085636165564067, 'expected_out_amount': 3.955491491353395e+16, 'expected_pnl': 0.020842443088096307}\n",
    ")\n",
    "nonce = web3.eth.get_transaction_count(wallet_address)\n",
    "f = router.functions.swapExactTokensForTokens(\n",
    "    order.amount_in,\n",
    "    order.amount_out_min,\n",
    "    order.path,\n",
    "    order.to,\n",
    "    order.deadline,\n",
    ")"
   ]
  },
  {
   "cell_type": "code",
   "execution_count": null,
   "id": "cdde1f28-fc22-48aa-9a6b-52ef0ec0a5c7",
   "metadata": {},
   "outputs": [],
   "source": [
    "txn = f.build_transaction({\n",
    "    # must specify from or you'll get a ValueError:\n",
    "    # {'code': -32603, 'message': 'execution fatal: Module(ModuleError [...])'}\n",
    "    'from': wallet_address,\n",
    "    'nonce': nonce,\n",
    "    'maxFeePerGas': int(200 * 1e9),\n",
    "    'maxPriorityFeePerGas': int(3 * 1e9),\n",
    "})"
   ]
  },
  {
   "cell_type": "code",
   "execution_count": null,
   "id": "232ec63c-0091-4300-9870-78de45d1645b",
   "metadata": {},
   "outputs": [],
   "source": [
    "txn.update({'nonce': 21})\n",
    "txn"
   ]
  },
  {
   "cell_type": "code",
   "execution_count": null,
   "id": "7a92c45b-7de4-46d9-adb2-fe7952024938",
   "metadata": {},
   "outputs": [],
   "source": [
    "tokens = cfg['token_trading_universe']"
   ]
  },
  {
   "cell_type": "code",
   "execution_count": null,
   "id": "a81598b9-df12-4068-8132-1404ff5a8a5a",
   "metadata": {},
   "outputs": [],
   "source": [
    "token = load_contract(\n",
    "    tokens[3],\n",
    "    cfg['abi_path']['token'],\n",
    "    web3,\n",
    ")\n",
    "wallet = config['strategy']['cyclic_arbitrage']['wallet_address']\n",
    "token.functions.balanceOf(wallet).call()"
   ]
  },
  {
   "cell_type": "code",
   "execution_count": null,
   "id": "2b10135a-201a-4f92-98bf-6169825803d9",
   "metadata": {},
   "outputs": [],
   "source": [
    "web3.eth.account.sign_transaction"
   ]
  },
  {
   "cell_type": "code",
   "execution_count": null,
   "id": "cec2ddbd-cfe6-4144-8338-1c855510bde2",
   "metadata": {},
   "outputs": [],
   "source": [
    "%%time\n",
    "receipt = web3.eth.get_transaction_receipt('0x75106fc66c0aa6539d76f63cbbe0a16d23a103d564ba46f4aa0f53f59dde330a')\n",
    "receipt.logs[3]\n",
    "# status = 0 -> txn failed; status = 1 -> txn succeeded\n",
    "# r = web3.eth.get_transaction_receipt('0x75106fc66c0aa6539d76f63cbbe0a16d23a103d564ba46f4aa0f53f59dde330a')\n",
    "# l = r.logs"
   ]
  },
  {
   "cell_type": "code",
   "execution_count": null,
   "id": "47d5f1ac-5518-4d76-8d19-0bd7c9fa764f",
   "metadata": {},
   "outputs": [],
   "source": [
    "# Ignore the mint (addLiquidity) and burn (removeLiquidity) events\n",
    "sync_filter = pair.events.Sync.createFilter(fromBlock=1625297, toBlock=1625297)\n",
    "x = sync_filter.get_all_entries()[0]\n",
    "x"
   ]
  },
  {
   "cell_type": "code",
   "execution_count": null,
   "id": "29e66a4a-2185-45f5-8607-e20f1f44a5d7",
   "metadata": {},
   "outputs": [],
   "source": [
    "# direction doesn't matter because Stellaswap stores both (token0, token1) -> pair and (token1, token0) -> pair\n",
    "factory.functions.getPair('0x0E358838ce72d5e61E0018a2ffaC4bEC5F4c88d2', '0xAcc15dC74880C9944775448304B263D191c6077F').call()"
   ]
  },
  {
   "cell_type": "code",
   "execution_count": null,
   "id": "52fe24fd-03a0-4fda-9107-7f0a4f7d5f53",
   "metadata": {},
   "outputs": [],
   "source": [
    "factory.functions.getPair('0x0E358838ce72d5e61E0018a2ffaC4bEC5F4c88d2', '0x511aB53F793683763E5a8829738301368a2411E3').call()"
   ]
  },
  {
   "cell_type": "code",
   "execution_count": null,
   "id": "854d657a-25e5-458c-8a1f-27c40b798930",
   "metadata": {},
   "outputs": [],
   "source": [
    "df = pd.read_csv(\"out/stellaswap_metadata_snapshot.csv\")\n",
    "df"
   ]
  }
 ],
 "metadata": {
  "kernelspec": {
   "display_name": "moonbeam-py",
   "language": "python",
   "name": "moonbeampy"
  },
  "language_info": {
   "codemirror_mode": {
    "name": "ipython",
    "version": 3
   },
   "file_extension": ".py",
   "mimetype": "text/x-python",
   "name": "python",
   "nbconvert_exporter": "python",
   "pygments_lexer": "ipython3",
   "version": "3.10.4"
  }
 },
 "nbformat": 4,
 "nbformat_minor": 5
}
