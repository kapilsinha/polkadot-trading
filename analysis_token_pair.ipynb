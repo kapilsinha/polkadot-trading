{
 "cells": [
  {
   "cell_type": "code",
   "execution_count": null,
   "id": "ee640861-7eda-4eb6-9829-9ee8261f3fa9",
   "metadata": {
    "tags": []
   },
   "outputs": [],
   "source": [
    "from enum import IntEnum\n",
    "from glob import glob\n",
    "import importlib\n",
    "import matplotlib.pyplot as plt\n",
    "import numpy as np\n",
    "import os\n",
    "import pandas as pd\n",
    "import seaborn as sns\n",
    "from timer import timer\n",
    "\n",
    "from statsmodels.tsa.api import ExponentialSmoothing, SimpleExpSmoothing, Holt\n",
    "\n",
    "from bokeh.io import output_notebook, export_png\n",
    "from bokeh.layouts import row, column\n",
    "from bokeh.models import ColumnDataSource, DatetimeTickFormatter, NumeralTickFormatter, HoverTool #, LinearAxis, Range1d\n",
    "from bokeh.plotting import figure, show, output_file, save\n",
    "\n",
    "pd.options.display.max_rows = 100\n",
    "output_notebook()"
   ]
  },
  {
   "cell_type": "code",
   "execution_count": null,
   "id": "dd0d4493-ba17-4599-b023-9d681c4b8d8a",
   "metadata": {
    "tags": []
   },
   "outputs": [],
   "source": [
    "import jupyter_helpers\n",
    "importlib.reload(jupyter_helpers)\n",
    "from jupyter_helpers import bokeh_helpers, preprocess_data\n",
    "importlib.reload(bokeh_helpers)\n",
    "importlib.reload(preprocess_data)\n",
    "\n",
    "# Globals\n",
    "d = '/home/kapil/Desktop/polkadot-trading'\n",
    "pair_addresses = set(pd.read_csv(f'{d}/data/stellaswap_liquid_pairs.csv').pair_address)\n",
    "x = pd.read_csv(f'{d}/data/stellaswap_metadata_snapshot.csv')\n",
    "x = x[x.pair_address.isin(pair_addresses)]\n",
    "pair_d = dict(zip(x.pair_address, x.symbol))\n",
    "pair_d['0x555B74dAFC4Ef3A5A1640041e3244460Dc7610d1'] = 'USDC_multi/WGLMR'\n",
    "pair_d['0x9bFcf685e641206115dadc0C9ab17181e1d4975c'] = 'USDC_mad/WGLMR'\n",
    "token_d = {**dict(zip(x.token0_address, x.token0_symbol)), **dict(zip(x.token1_address, x.token1_symbol))}\n",
    "pair_to_tokens = dict(zip(x.pair_address, tuple(zip(x.token0_address, x.token1_address))))\n",
    "print('Token pairs:', list(pair_d.values()))\n",
    "print('Tokens:', list(token_d.values()))\n",
    "bh = bokeh_helpers.BokehHelper(pair_d, token_d)\n",
    "\n",
    "def highlight(s):\n",
    "    m = {\n",
    "        DataRowType.SWAP_TXN: 'background-color: yellow',\n",
    "        DataRowType.ON_UPDATE_TOKEN_PAIR_SNAPSHOT: 'background-color: #90ee90',\n",
    "        DataRowType.END_OF_BLOCK_TOKEN_PAIR_SNAPSHOT: 'background-color: lime',\n",
    "        DataRowType.ON_UPDATE_TOKEN_SNAPSHOT: 'background-color: #89cff0',\n",
    "        DataRowType.END_OF_BLOCK_TOKEN_SNAPSHOT: 'background-color: #00bfff',\n",
    "    }\n",
    "    return [m[s.row_type] for _ in range(len(s))]\n",
    "\n",
    "class DataRowType(IntEnum):\n",
    "    END_OF_BLOCK_TOKEN_PAIR_SNAPSHOT = 1\n",
    "    ON_UPDATE_TOKEN_PAIR_SNAPSHOT = 2\n",
    "    END_OF_BLOCK_TOKEN_SNAPSHOT = 3\n",
    "    ON_UPDATE_TOKEN_SNAPSHOT = 4\n",
    "    SWAP_TXN = 5"
   ]
  },
  {
   "cell_type": "code",
   "execution_count": null,
   "id": "57642d3c-4657-47cc-9322-366a33464c62",
   "metadata": {},
   "outputs": [],
   "source": [
    "files = sorted(glob(f'{d}/data/stellaswap_txn_history/end_of_block_token_pair/stellaswap_data_1[6-8]*.feather'))\n",
    "files[:2] + ['...'] + files[-2:]"
   ]
  },
  {
   "cell_type": "code",
   "execution_count": null,
   "id": "b923b224-6faa-439c-8aeb-2b2a63191ed7",
   "metadata": {
    "tags": []
   },
   "outputs": [],
   "source": [
    "%%time\n",
    "\n",
    "df = pd.concat([pd.read_feather(f) for f in files]).reset_index(drop=True)\n",
    "df['rate'] = df.reserve1 / df.reserve0\n",
    "df['revrate'] = df.reserve0 / df.reserve1\n",
    "df['block_timestamp'] = df['block_timestamp'] * 1000 # bokeh interprets epoch time in milliseconds\n",
    "\n",
    "# df = preprocess_data.compute_deltas_token(df)\n",
    "# df = df.groupby(['row_type', 'token_address'], dropna=False).apply(preprocess_data.add_exp_smooth_token)\n",
    "\n",
    "df = preprocess_data.compute_deltas_token_pair(df)\n",
    "df = df.groupby(['row_type', 'pair_address'], dropna=False).apply(preprocess_data.add_exp_smooth_token_pair)\n",
    "df = df.groupby(['row_type', 'pair_address'], dropna=False).apply(preprocess_data.add_detrended_rate)\n",
    "\n",
    "# df = preprocess_data.augment_swap_rows(df, pair_to_tokens)\n",
    "\n",
    "print(\"Memory usage:\", df.memory_usage(index=True).sum() / 1e6, 'MB')\n",
    "df"
   ]
  },
  {
   "cell_type": "code",
   "execution_count": null,
   "id": "541bd4d6-bd50-4f03-a99e-329cb3daaa54",
   "metadata": {},
   "outputs": [],
   "source": [
    "x = df[df['pair_address'] == '0x555B74dAFC4Ef3A5A1640041e3244460Dc7610d1']\n",
    "plt.plot(x.block_number, x.detrended_rate)\n",
    "plt.plot(x.block_number, x.rate)"
   ]
  },
  {
   "cell_type": "code",
   "execution_count": null,
   "id": "e921abfc-e220-4318-a4a9-ac4fe60dd9ba",
   "metadata": {},
   "outputs": [],
   "source": [
    "x"
   ]
  },
  {
   "cell_type": "code",
   "execution_count": null,
   "id": "373361cf-dfa1-4d44-b1a9-9de2c28de444",
   "metadata": {},
   "outputs": [],
   "source": [
    "%%time\n",
    "x = bh.plot_combined_token_pairs(df, plot_normalized=True, plot_smoothed=False, plot_detrended=True)\n",
    "output_file(filename=\"figures/token_pairs.html\", title=\"Token pairs: blocks 1,600,000 - 1,900,000\")\n",
    "save(x)"
   ]
  },
  {
   "cell_type": "code",
   "execution_count": null,
   "id": "e8bd7e87-5b12-4dd5-bb3f-eebc8cd22a57",
   "metadata": {},
   "outputs": [],
   "source": [
    "%%time\n",
    "pa = '0x555B74dAFC4Ef3A5A1640041e3244460Dc7610d1'\n",
    "dd = df[(df.row_type == DataRowType.END_OF_BLOCK_TOKEN_PAIR_SNAPSHOT) & (df.pair_address == pa)].reset_index(drop=True).dropna(axis=1, how='all')\n",
    "\n",
    "x = bh.plot_token_pair(dd)\n",
    "output_file(filename=\"figures/test.html\", title=\"Test\")\n",
    "save(x)"
   ]
  },
  {
   "cell_type": "code",
   "execution_count": null,
   "id": "c0917e63-498e-49d9-b289-456a14417fdb",
   "metadata": {},
   "outputs": [],
   "source": [
    "%%time\n",
    "x = bh.plot_combined_tokens(df)\n",
    "# show(x)\n",
    "output_file(filename=\"figures/tokens.html\", title=\"Token values: blocks 1,700,000 - 1,850,000\")\n",
    "save(x)"
   ]
  },
  {
   "cell_type": "code",
   "execution_count": null,
   "id": "bed97dd2-9a29-4f77-8eb8-9aa6c78111bb",
   "metadata": {},
   "outputs": [],
   "source": [
    "t = '0xAcc15dC74880C9944775448304B263D191c6077F'\n",
    "x = bh.plot_token(df[(df.row_type == DataRowType.END_OF_BLOCK_TOKEN_SNAPSHOT) & (df.token_address == t)].reset_index(drop=True), jump_bps_thresh=100)\n",
    "show(x)"
   ]
  },
  {
   "cell_type": "code",
   "execution_count": null,
   "id": "3e9c0064-8842-47e8-9f14-50334429737a",
   "metadata": {
    "scrolled": true,
    "tags": []
   },
   "outputs": [],
   "source": [
    "%%time\n",
    "for pa, name in list(pair_d.items()):\n",
    "    try:\n",
    "        file_prefix = name.replace('/', '_')\n",
    "        x = bh.plot_token_pair(df[(df.row_type == DataRowType.END_OF_BLOCK_TOKEN_PAIR_SNAPSHOT) & (df.pair_address == pa)].reset_index(drop=True).dropna(axis=1, how='all'))\n",
    "        export_png(x, filename=f'figures/pair_{file_prefix}.png')\n",
    "    except:\n",
    "        print(f'Skipping {pa} ({name}), likely no data')"
   ]
  },
  {
   "cell_type": "code",
   "execution_count": null,
   "id": "702e21a6-34aa-42c3-ae7d-4cacb066e0a9",
   "metadata": {},
   "outputs": [],
   "source": [
    "%%time\n",
    "for t, name in token_d.items():\n",
    "    try:\n",
    "        file_prefix = f'{name}_{t[:5]}'\n",
    "        x = bh.plot_token(df[(df.row_type == DataRowType.END_OF_BLOCK_TOKEN_SNAPSHOT) & (df.token_address == t)].reset_index(drop=True), jump_bps_thresh=100)\n",
    "        export_png(x, filename=f'figures/token_{file_prefix}.png')\n",
    "    except:\n",
    "        print(f'Skipping {t} ({name}), likely no data')"
   ]
  },
  {
   "cell_type": "code",
   "execution_count": null,
   "id": "c57fc6f1-94ee-4155-9d7c-e8e18210a206",
   "metadata": {},
   "outputs": [],
   "source": [
    "# Correlation might be skewed because we don't fill in missing block_numbers, but I feel like it doesn't matter\n",
    "\n",
    "data = df[df.row_type == DataRowType.END_OF_BLOCK_TOKEN_PAIR_SNAPSHOT].dropna(axis=1, how='all')\n",
    "block_range_str = f'(blocks {data.block_number.min()} - {data.block_number.max()})'\n",
    "\n",
    "token_pair_rates = data.pivot(index='block_number', columns='pair_address', values='rate')\n",
    "token_pair_rates = token_pair_rates.rename(columns={x: pair_d[x] for x in token_pair_rates.columns}).reset_index().fillna(method='ffill')\n",
    "token_pair_rates.columns.name = None\n",
    "\n",
    "token_pair_detrended_rates = data.pivot(index='block_number', columns='pair_address', values='detrended_rate')\n",
    "token_pair_detrended_rates = token_pair_detrended_rates.rename(columns={x: pair_d[x] for x in token_pair_detrended_rates.columns}).reset_index().fillna(method='ffill')\n",
    "token_pair_detrended_rates.columns.name = None\n",
    "\n",
    "token_pair_smoothed_rates = data.pivot(index='block_number', columns='pair_address', values='smoothed_rate')\n",
    "token_pair_smoothed_rates = token_pair_smoothed_rates.rename(columns={x: pair_d[x] for x in token_pair_smoothed_rates.columns}).reset_index().fillna(method='ffill')\n",
    "token_pair_smoothed_rates.columns.name = None\n",
    "\n",
    "cols = [c for c in token_pair_rates.columns if c != 'block_number']"
   ]
  },
  {
   "cell_type": "code",
   "execution_count": null,
   "id": "3182803c-3483-4d42-829e-46dbf17844df",
   "metadata": {},
   "outputs": [],
   "source": [
    "sns.set(rc = {'figure.figsize':(30,15)})"
   ]
  },
  {
   "cell_type": "code",
   "execution_count": null,
   "id": "b5b533c1-3dc8-403d-872c-14f90af38fbf",
   "metadata": {},
   "outputs": [],
   "source": [
    "corr = token_pair_rates[cols].pct_change().corr()\n",
    "plot = sns.heatmap(corr, annot=True)\n",
    "plt.title(f'Correlation matrix of StellaSwap token pair rate deltas {block_range_str}')\n",
    "plt.figtext(0.45, -0.03, f'Average absolute value correlation = {corr.abs().mean().mean():0.3f}', wrap=True, horizontalalignment='center', fontsize=12)\n",
    "# plot.get_figure().savefig(\"figures/stellaswap_token_pair_raw_rate_correlation_heatmap.png\", bbox_inches='tight')"
   ]
  },
  {
   "cell_type": "code",
   "execution_count": null,
   "id": "877387fd-32a2-4a36-a7ff-fb468e7f49e1",
   "metadata": {},
   "outputs": [],
   "source": [
    "corr = token_pair_smoothed_rates[cols].pct_change().corr()\n",
    "plot = sns.heatmap(corr, annot=True)\n",
    "plt.title(f'Correlation matrix of StellaSwap token pair rate (exponentially smoothed, α=0.25) deltas {block_range_str}')\n",
    "plt.figtext(0.45, -0.03, f'Average absolute value correlation = {corr.abs().mean().mean():0.3f}', wrap=True, horizontalalignment='center', fontsize=12)\n",
    "plot.get_figure().savefig(\"figures/stellaswap_token_pair_smoothed_rate_correlation_heatmap.png\", bbox_inches='tight') "
   ]
  },
  {
   "cell_type": "code",
   "execution_count": null,
   "id": "d3bb2928-497a-43bf-afeb-dc54bda10dfc",
   "metadata": {},
   "outputs": [],
   "source": [
    "# blocks_per_bin = 5000\n",
    "for blocks_per_bin in [2, 3, 4, 5, 10, 15, 20, 25, 50, 100, 150, 300, 600, 1500, 7200]:\n",
    "    bin_minute_length = blocks_per_bin / 5 # approximate because a block is produced approx each 12 s\n",
    "    num_blocks = int(token_pair_rates.block_number.max() - token_pair_rates.block_number.min() + 1)\n",
    "    num_bins = num_blocks // blocks_per_bin # 10 block bins ~ 2 minutes bin\n",
    "    token_pair_binned_rates = token_pair_rates.groupby(pd.cut(token_pair_rates['block_number'], num_bins)).mean()\n",
    "\n",
    "    corr = token_pair_binned_rates[cols].pct_change().corr()\n",
    "    plot = sns.heatmap(corr, annot=True)\n",
    "    plt.figtext(0.45, -0.03, f'Average absolute value correlation = {corr.abs().mean().mean():0.3f}', wrap=True, horizontalalignment='center', fontsize=12)\n",
    "    plt.title(f'Correlation matrix of StellaSwap token pair rate ({blocks_per_bin} blocks, i.e. ~{bin_minute_length} min, per bin) deltas {block_range_str}')\n",
    "    plot.get_figure().savefig(f'figures/correlation_plots/stellaswap_token_pair_{blocks_per_bin}_bin_rate_correlation_heatmap.png', bbox_inches='tight')\n",
    "    plt.clf()"
   ]
  },
  {
   "cell_type": "code",
   "execution_count": null,
   "id": "4e76c61f-040a-4668-9c22-e1dd225a6b28",
   "metadata": {},
   "outputs": [],
   "source": [
    "# blocks_per_bin = 5000\n",
    "for blocks_per_bin in [2, 3, 4, 5, 6, 7, 8, 9, 10, 15, 20, 25, 50, 100, 150, 300, 500, \\\n",
    "                       600, 900, 1200, 1500, 3000, 6000, 7200]:\n",
    "    filename = f'figures/correlation_plots/detrended/stellaswap_token_pair_{blocks_per_bin}_bin_rate_correlation_heatmap.png'\n",
    "    if os.path.isfile(filename):\n",
    "        print(f'{filename} exists. Skipping it')\n",
    "        continue\n",
    "    bin_minute_length = blocks_per_bin / 5 # approximate because a block is produced approx each 12 s\n",
    "    num_blocks = int(token_pair_detrended_rates.block_number.max() - token_pair_detrended_rates.block_number.min() + 1)\n",
    "    num_bins = num_blocks // blocks_per_bin # 10 block bins ~ 2 minutes bin\n",
    "    token_pair_binned_rates = token_pair_detrended_rates.groupby(pd.cut(token_pair_detrended_rates['block_number'], num_bins)).mean()\n",
    "\n",
    "    corr = token_pair_binned_rates[cols].corr() #pct_change().corr()\n",
    "    plot = sns.heatmap(corr, annot=True)\n",
    "    plt.figtext(0.45, -0.03, f'Average absolute value correlation = {corr.abs().mean().mean():0.3f}', wrap=True, horizontalalignment='center', fontsize=12)\n",
    "    plt.title(f'Correlation matrix of StellaSwap token pair de-trended rate ({blocks_per_bin} blocks, i.e. ~{bin_minute_length} min, per bin) {block_range_str}')\n",
    "    plot.get_figure().savefig(filename, bbox_inches='tight')\n",
    "    plt.clf()"
   ]
  },
  {
   "cell_type": "code",
   "execution_count": null,
   "id": "36099742-24f7-448a-a0c6-5742a146e378",
   "metadata": {},
   "outputs": [],
   "source": [
    "blocks_per_bin = 10\n",
    "bin_minute_length = blocks_per_bin / 5 # approximate because a block is produced approx each 12 s\n",
    "num_blocks = int(token_pair_detrended_rates.block_number.max() - token_pair_detrended_rates.block_number.min() + 1)\n",
    "num_bins = num_blocks // blocks_per_bin # 10 block bins ~ 2 minutes bin\n",
    "token_pair_binned_rates = token_pair_detrended_rates.groupby(\n",
    "    pd.cut(token_pair_detrended_rates['block_number'], num_bins)).mean().fillna(method='ffill')\n",
    "\n",
    "# corr = token_pair_binned_rates[cols].pct_change().corr()\n",
    "token_pair_binned_rates\n",
    "token_pair_binned_rates[['USDC_multi/WGLMR', 'USDC/BNB']]"
   ]
  },
  {
   "cell_type": "code",
   "execution_count": null,
   "id": "1066e985-82ca-44f8-9b81-9c33f64ea0c3",
   "metadata": {},
   "outputs": [],
   "source": [
    "token_pair_detrended_rates[token_pair_detrended_rates.block_number.between(1896621, 1896641)]"
   ]
  },
  {
   "cell_type": "code",
   "execution_count": null,
   "id": "9790a056-cea1-4ae3-9675-f778a996e9a0",
   "metadata": {},
   "outputs": [],
   "source": [
    "df.pair_address"
   ]
  },
  {
   "cell_type": "code",
   "execution_count": null,
   "id": "8628ffcd-2c9b-4f09-b998-d084f31b1800",
   "metadata": {},
   "outputs": [],
   "source": [
    "df[(df.block_number.between(1896621, 1896641)) & (df.pair_address == '0x555B74dAFC4Ef3A5A1640041e3244460Dc7610d1')\n",
    "  ].dropna(axis=1, how='all') #.sort_values(['pair_address', 'block_number'])"
   ]
  },
  {
   "cell_type": "code",
   "execution_count": null,
   "id": "e4fed4bd-24a9-4eac-be42-33f3fc4ba681",
   "metadata": {},
   "outputs": [],
   "source": [
    "x = token_pair_binned_rates[['USDC_multi/WGLMR', 'USDC/BNB']].reset_index()\n",
    "plt.plot(x.index, x['USDC_multi/WGLMR'].pct_change())\n",
    "# plt.plot(x.index, x['USDC/BNB'].pct_change())"
   ]
  },
  {
   "cell_type": "code",
   "execution_count": null,
   "id": "27f1be7c-e9b2-4424-acc6-874972b66c18",
   "metadata": {},
   "outputs": [],
   "source": [
    "x['USDC/BNB'].min()"
   ]
  },
  {
   "cell_type": "code",
   "execution_count": null,
   "id": "16682193-e266-43b8-b844-7c599532ef89",
   "metadata": {},
   "outputs": [],
   "source": [
    "token_pair_detrended_rates"
   ]
  },
  {
   "cell_type": "code",
   "execution_count": null,
   "id": "498a8d34-1e10-4237-aa0f-06172d2161a3",
   "metadata": {},
   "outputs": [],
   "source": [
    "pa = '0xa927E1e1E044CA1D9fe1854585003477331fE2Af'\n",
    "bh.plot_token_pair(df[(df.row_type == DataRowType.END_OF_BLOCK_TOKEN_PAIR_SNAPSHOT) & (df.pair_address == pa)].reset_index(drop=True).dropna(axis=1, how='all'))"
   ]
  },
  {
   "cell_type": "code",
   "execution_count": null,
   "id": "dac81e83-0d9a-47be-8829-6fd70b5cf66c",
   "metadata": {},
   "outputs": [],
   "source": [
    "t = '0xAcc15dC74880C9944775448304B263D191c6077F'\n",
    "bh.plot_token(df[(df.row_type == DataRowType.END_OF_BLOCK_TOKEN_SNAPSHOT) & (df.token_address == t)], jump_bps_thresh=100, smoothing_level=5e-3)\n",
    "\n",
    "t2 = '0xFfFFfFff1FcaCBd218EDc0EbA20Fc2308C778080'\n",
    "bh.plot_token(df[(df.row_type == DataRowType.END_OF_BLOCK_TOKEN_SNAPSHOT) & (df.token_address == t2)], jump_bps_thresh=100, smoothing_level=5e-3)"
   ]
  },
  {
   "cell_type": "code",
   "execution_count": null,
   "id": "ad9fb32d-03cc-4563-8749-2162e3322820",
   "metadata": {},
   "outputs": [],
   "source": [
    "dai_data = pd.DataFrame({ f'{token_name}': \\\n",
    " df[(df.row_type == DataRowType.END_OF_BLOCK_TOKEN_SNAPSHOT) & (df.token_address == token_address)]['dai-multi_equiv_no_fees'].reset_index(drop=True) \\\n",
    " for token_address, token_name in token_d.items()\n",
    "}).dropna(axis=1, how='all')\n",
    "\n",
    "smoothed_dai_data = pd.DataFrame({ f'{token_name}': \\\n",
    " df[(df.row_type == DataRowType.END_OF_BLOCK_TOKEN_SNAPSHOT) & (df.token_address == token_address)]['smoothed_dai-multi_equiv_no_fees'].reset_index(drop=True) \\\n",
    " for token_address, token_name in token_d.items()\n",
    "}).dropna(axis=1, how='all')\n",
    "\n",
    "dai_delta_data = pd.DataFrame({ f'{token_name}': \\\n",
    " 10_000 * df[(df.row_type == DataRowType.END_OF_BLOCK_TOKEN_SNAPSHOT) & (df.token_address == token_address)]['dai-multi_equiv_no_fees'].pct_change().reset_index(drop=True) \\\n",
    " for token_address, token_name in token_d.items()\n",
    "}).dropna(axis=1, how='all')\n",
    "\n",
    "smoothed_dai_delta_data = pd.DataFrame({ f'{token_name}': \\\n",
    " 10_000 * df[(df.row_type == DataRowType.END_OF_BLOCK_TOKEN_SNAPSHOT) & (df.token_address == token_address)]['smoothed_dai-multi_equiv_no_fees'].pct_change().reset_index(drop=True) \\\n",
    " for token_address, token_name in token_d.items()\n",
    "}).dropna(axis=1, how='all')"
   ]
  },
  {
   "cell_type": "code",
   "execution_count": null,
   "id": "739a6c21-bd16-402b-b410-8ac94cff3653",
   "metadata": {},
   "outputs": [],
   "source": [
    "sns.set(rc = {'figure.figsize':(15,8)})\n",
    "#sns.heatmap(dai_data.corr(), annot=True)\n",
    "#sns.heatmap(smoothed_dai_data.corr(), annot=True)\n",
    "#sns.heatmap(smoothed_dai_delta_data.corr(), annot=True)\n",
    "\n",
    "plot = sns.heatmap(dai_delta_data.corr(), annot=True)\n",
    "plt.title('Correlation matrix of StellaSwap token DAI-equivalent-value deltas')\n",
    "plot.get_figure().savefig(\"figures/stellaswap_token_correlation_heatmap.png\") "
   ]
  },
  {
   "cell_type": "code",
   "execution_count": null,
   "id": "d9141218-702f-41e3-aa52-38f013f16971",
   "metadata": {},
   "outputs": [],
   "source": [
    "t1 = '0xAcc15dC74880C9944775448304B263D191c6077F'\n",
    "t2 = '0xFfFFfFff1FcaCBd218EDc0EbA20Fc2308C778080'\n",
    "data1 = df[(df.row_type == DataRowType.END_OF_BLOCK_TOKEN_SNAPSHOT) & (df.token_address == t1)]\n",
    "data2 = df[(df.row_type == DataRowType.END_OF_BLOCK_TOKEN_SNAPSHOT) & (df.token_address == t2)]\n",
    "sns.lineplot(x=pd.to_datetime(data1.block_timestamp, unit='ms'), y=data1['dai-multi_equiv_no_fees'].pct_change(), alpha=0.75, label=f'{token_d[t1]}')\n",
    "sns.lineplot(x=pd.to_datetime(data2.block_timestamp, unit='ms'), y=data2['dai-multi_equiv_no_fees'].pct_change(), alpha=0.75, label=f'{token_d[t2]}')"
   ]
  },
  {
   "cell_type": "code",
   "execution_count": null,
   "id": "db3a9e72-90e6-4d25-a5d9-ce14af96fca3",
   "metadata": {},
   "outputs": [],
   "source": [
    "df[(df.row_type == DataRowType.END_OF_BLOCK_TOKEN_SNAPSHOT) & (df.token_address == '0x818ec0A7Fe18Ff94269904fCED6AE3DaE6d6dC0b')]['dai-multi_equiv_no_fees'].pct_change()"
   ]
  },
  {
   "cell_type": "code",
   "execution_count": null,
   "id": "b387a573-fc90-4904-bce8-2ca0d6b1434a",
   "metadata": {},
   "outputs": [],
   "source": [
    "x = list(range(11))\n",
    "y0 = x\n",
    "y1 = [10 - i for i in x]\n",
    "y2 = [abs(i - 5) for i in x]\n",
    "\n",
    "# create three plots with one renderer each\n",
    "s1 = figure(width=250, height=250, background_fill_color=\"#fafafa\")\n",
    "s1.circle(x, y0, size=12, color=\"#53777a\", alpha=0.8)\n",
    "\n",
    "s2 = figure(width=250, height=250, background_fill_color=\"#fafafa\")\n",
    "s2.triangle(x, y1, size=12, color=\"#c02942\", alpha=0.8)\n",
    "\n",
    "s3 = figure(width=250, height=250, background_fill_color=\"#fafafa\")\n",
    "s3.square(x, y2, size=12, color=\"#d95b43\", alpha=0.8)\n",
    "\n",
    "\n",
    "p = figure(\n",
    "    title=\"Plot sizing example\",\n",
    "    width=350,\n",
    "    height=250,\n",
    "    x_axis_label=\"x\",\n",
    "    y_axis_label=\"y\",\n",
    ")\n",
    "p.xaxis[0].formatter = DatetimeTickFormatter(months=\"%b %Y\")"
   ]
  }
 ],
 "metadata": {
  "kernelspec": {
   "display_name": "moonbeam-py",
   "language": "python",
   "name": "moonbeampy"
  },
  "language_info": {
   "codemirror_mode": {
    "name": "ipython",
    "version": 3
   },
   "file_extension": ".py",
   "mimetype": "text/x-python",
   "name": "python",
   "nbconvert_exporter": "python",
   "pygments_lexer": "ipython3",
   "version": "3.10.4"
  }
 },
 "nbformat": 4,
 "nbformat_minor": 5
}
