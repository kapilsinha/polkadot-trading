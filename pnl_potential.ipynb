{
 "cells": [
  {
   "cell_type": "code",
   "execution_count": null,
   "id": "9efe543d-2623-40b2-8c09-f7695dfe4880",
   "metadata": {},
   "outputs": [],
   "source": [
    "from common.enums import Direction\n",
    "from simulation.sim_types import TokenPair\n",
    "\n",
    "import pandas as pd"
   ]
  },
  {
   "cell_type": "code",
   "execution_count": null,
   "id": "efcc036a-59f4-4c87-8471-f85c5e58fd73",
   "metadata": {},
   "outputs": [],
   "source": [
    "l = pd.read_csv('data/stellaswap_metadata_snapshot.csv')\n",
    "l = l[l.pair_address.isin(pd.read_csv('data/stellaswap_liquid_pairs.csv').pair_address)]\n",
    "l"
   ]
  },
  {
   "cell_type": "code",
   "execution_count": null,
   "id": "049798ed-34a4-48a7-ae33-bb7d6dd07b48",
   "metadata": {},
   "outputs": [],
   "source": [
    "max_our_trade_impact_rate_bps = 15\n",
    "lst = []\n",
    "for _, row in l.iterrows():\n",
    "    pair = TokenPair(row.pair_address, row.token0_address, row.token1_address)\n",
    "    pair.set_reserves(int(row.reserve0), int(row.reserve1))\n",
    "    cur_quote = pair.quote_no_fees(Direction.FORWARD)\n",
    "    _, token1_amount, token0_amount = pair.compute_trade_for_target_forward_quote(cur_quote * (1 + max_our_trade_impact_rate_bps / 10_000))\n",
    "    adj_token0_amount, adj_token1_amount = token0_amount / 10**row.token0_decimals, token1_amount / 10**row.token1_decimals\n",
    "    if row.token0_symbol == 'WGLMR':\n",
    "        usd_value = adj_token0_amount * 0.5 # approx, varies with time\n",
    "    elif row.token1_symbol == 'WGLMR':\n",
    "        usd_value = adj_token1_amount * 0.5\n",
    "    elif row.token0_symbol == 'USDC':\n",
    "        usd_value = adj_token0_amount\n",
    "    elif row.token1_symbol == 'USDC':\n",
    "        usd_value = adj_token1_amount\n",
    "    lst.append((usd_value, (f'{row.symbol}: ${usd_value:0.2f} -> {row.token0_symbol} = {adj_token0_amount}, {row.token1_symbol} = {adj_token1_amount}')))\n",
    "\n",
    "for _, v in sorted(lst, reverse=True):\n",
    "    print(v)"
   ]
  },
  {
   "cell_type": "code",
   "execution_count": null,
   "id": "0e532303-d3b1-420a-a6ae-57ee674625d5",
   "metadata": {},
   "outputs": [],
   "source": [
    "max_our_trade_impact_rate_bps = 0\n",
    "lst = []\n",
    "for _, row in l.iterrows():\n",
    "    pair = TokenPair(row.pair_address, row.token0_address, row.token1_address)\n",
    "    pair.set_reserves(int(row.reserve0), int(row.reserve1))\n",
    "    cur_quote = pair.quote_no_fees(Direction.FORWARD)\n",
    "    _, token1_amount, token0_amount = pair.compute_trade_for_target_forward_quote(cur_quote * (1 + max_our_trade_impact_rate_bps / 10_000))\n",
    "    adj_token0_amount, adj_token1_amount = token0_amount / 10**row.token0_decimals, token1_amount / 10**row.token1_decimals\n",
    "    adj_token0_amount = pair.reserve0 / 10**row.token0_decimals\n",
    "    adj_token1_amount = pair.reserve1 / 10**row.token1_decimals\n",
    "    if row.token0_symbol == 'WGLMR':\n",
    "        usd_value = adj_token0_amount * 0.5 # approx, varies with time\n",
    "    elif row.token1_symbol == 'WGLMR':\n",
    "        usd_value = adj_token1_amount * 0.5\n",
    "    elif row.token0_symbol == 'USDC':\n",
    "        usd_value = adj_token0_amount\n",
    "    elif row.token1_symbol == 'USDC':\n",
    "        usd_value = adj_token1_amount\n",
    "    lst.append((usd_value, f'{row.symbol}: ${usd_value:0.2f} -> {row.token0_symbol} = {adj_token0_amount}, {row.token1_symbol} = {adj_token1_amount}'))\n",
    "\n",
    "for v in sorted(lst, reverse=True):\n",
    "    print(v)"
   ]
  },
  {
   "cell_type": "code",
   "execution_count": null,
   "id": "6b78ce88-8e56-464e-a800-fd66c1aec5ef",
   "metadata": {},
   "outputs": [],
   "source": []
  }
 ],
 "metadata": {
  "kernelspec": {
   "display_name": "moonbeam-py",
   "language": "python",
   "name": "moonbeampy"
  },
  "language_info": {
   "codemirror_mode": {
    "name": "ipython",
    "version": 3
   },
   "file_extension": ".py",
   "mimetype": "text/x-python",
   "name": "python",
   "nbconvert_exporter": "python",
   "pygments_lexer": "ipython3",
   "version": "3.10.4"
  }
 },
 "nbformat": 4,
 "nbformat_minor": 5
}
