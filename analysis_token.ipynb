{
 "cells": [
  {
   "cell_type": "code",
   "execution_count": null,
   "id": "ee640861-7eda-4eb6-9829-9ee8261f3fa9",
   "metadata": {
    "tags": []
   },
   "outputs": [],
   "source": [
    "from enum import IntEnum\n",
    "from glob import glob\n",
    "import importlib\n",
    "import matplotlib.pyplot as plt\n",
    "import numpy as np\n",
    "import os\n",
    "import pandas as pd\n",
    "import seaborn as sns\n",
    "from timer import timer\n",
    "\n",
    "from statsmodels.tsa.api import ExponentialSmoothing, SimpleExpSmoothing, Holt\n",
    "\n",
    "from bokeh.io import output_notebook, export_png\n",
    "from bokeh.layouts import row, column\n",
    "from bokeh.models import ColumnDataSource, DatetimeTickFormatter, NumeralTickFormatter, HoverTool #, LinearAxis, Range1d\n",
    "from bokeh.plotting import figure, show, output_file, save\n",
    "\n",
    "pd.options.display.max_rows = 100\n",
    "output_notebook()"
   ]
  },
  {
   "cell_type": "code",
   "execution_count": null,
   "id": "dd0d4493-ba17-4599-b023-9d681c4b8d8a",
   "metadata": {
    "tags": []
   },
   "outputs": [],
   "source": [
    "import jupyter_helpers\n",
    "importlib.reload(jupyter_helpers)\n",
    "from jupyter_helpers import bokeh_helpers, preprocess_data\n",
    "importlib.reload(bokeh_helpers)\n",
    "importlib.reload(preprocess_data)\n",
    "\n",
    "# Globals\n",
    "d = '/home/kapil/Desktop/polkadot-trading'\n",
    "pair_addresses = set(pd.read_csv(f'{d}/data/stellaswap_liquid_pairs.csv').pair_address)\n",
    "x = pd.read_csv(f'{d}/data/stellaswap_metadata_snapshot.csv')\n",
    "x = x[x.pair_address.isin(pair_addresses)]\n",
    "pair_d = dict(zip(x.pair_address, x.symbol))\n",
    "token_d = {**dict(zip(x.token0_address, x.token0_symbol)), **dict(zip(x.token1_address, x.token1_symbol))}\n",
    "token_d['0x818ec0A7Fe18Ff94269904fCED6AE3DaE6d6dC0b'] = 'USDC_multi'\n",
    "token_d['0x8f552a71EFE5eeFc207Bf75485b356A0b3f01eC9'] = 'USDC_mad'\n",
    "assert(len(set(token_d.values())) == len(token_d.values()))\n",
    "\n",
    "token_to_decimals = {**dict(zip(x.token0_address, x.token0_decimals)), **dict(zip(x.token1_address, x.token1_decimals))}\n",
    "pair_to_tokens = dict(zip(x.pair_address, tuple(zip(x.token0_address, x.token1_address))))\n",
    "print('Token pairs:', list(pair_d.values()))\n",
    "print('Tokens:', list(token_d.values()))\n",
    "bh = bokeh_helpers.BokehHelper(pair_d, token_d)\n",
    "\n",
    "def highlight(s):\n",
    "    m = {\n",
    "        DataRowType.SWAP_TXN: 'background-color: yellow',\n",
    "        DataRowType.ON_UPDATE_TOKEN_PAIR_SNAPSHOT: 'background-color: #90ee90',\n",
    "        DataRowType.END_OF_BLOCK_TOKEN_PAIR_SNAPSHOT: 'background-color: lime',\n",
    "        DataRowType.ON_UPDATE_TOKEN_SNAPSHOT: 'background-color: #89cff0',\n",
    "        DataRowType.END_OF_BLOCK_TOKEN_SNAPSHOT: 'background-color: #00bfff',\n",
    "    }\n",
    "    return [m[s.row_type] for _ in range(len(s))]\n",
    "\n",
    "class DataRowType(IntEnum):\n",
    "    END_OF_BLOCK_TOKEN_PAIR_SNAPSHOT = 1\n",
    "    ON_UPDATE_TOKEN_PAIR_SNAPSHOT = 2\n",
    "    END_OF_BLOCK_TOKEN_SNAPSHOT = 3\n",
    "    ON_UPDATE_TOKEN_SNAPSHOT = 4\n",
    "    SWAP_TXN = 5"
   ]
  },
  {
   "cell_type": "code",
   "execution_count": null,
   "id": "7f1cc670-12b6-4163-9bc8-fafcabb563dc",
   "metadata": {},
   "outputs": [],
   "source": [
    "x"
   ]
  },
  {
   "cell_type": "code",
   "execution_count": null,
   "id": "57642d3c-4657-47cc-9322-366a33464c62",
   "metadata": {},
   "outputs": [],
   "source": [
    "files = sorted(glob(f'{d}/data/stellaswap_txn_history/end_of_block_token/stellaswap_data_1[8]*.feather'))\n",
    "files[:2] + ['...'] + files[-2:]"
   ]
  },
  {
   "cell_type": "code",
   "execution_count": null,
   "id": "b923b224-6faa-439c-8aeb-2b2a63191ed7",
   "metadata": {
    "tags": []
   },
   "outputs": [],
   "source": [
    "%%time\n",
    "\n",
    "df = pd.concat([pd.read_feather(f) for f in files]).reset_index(drop=True)\n",
    "df['rate'] = df.reserve1 / df.reserve0\n",
    "df['revrate'] = df.reserve0 / df.reserve1\n",
    "df['block_timestamp'] = df['block_timestamp'] * 1000 # bokeh interprets epoch time in milliseconds\n",
    "\n",
    "df = preprocess_data.compute_deltas_token(df)\n",
    "df = df.groupby(['row_type', 'token_address'], dropna=False).apply(preprocess_data.add_exp_smooth_token)\n",
    "\n",
    "# df = preprocess_data.compute_deltas_token_pair(df)\n",
    "# df = df.groupby(['row_type', 'pair_address'], dropna=False).apply(preprocess_data.add_exp_smooth_token_pair)\n",
    "\n",
    "# df = preprocess_data.augment_swap_rows(df, pair_to_tokens)\n",
    "\n",
    "print(\"Memory usage:\", df.memory_usage(index=True).sum() / 1e6, 'MB')\n",
    "df"
   ]
  },
  {
   "cell_type": "markdown",
   "id": "96ab1efc-a5f5-481f-952f-955dd0676ce2",
   "metadata": {},
   "source": [
    "## Plotting"
   ]
  },
  {
   "cell_type": "code",
   "execution_count": null,
   "id": "373361cf-dfa1-4d44-b1a9-9de2c28de444",
   "metadata": {},
   "outputs": [],
   "source": [
    "%%time\n",
    "x = bh.plot_combined_token_pairs(df)\n",
    "output_file(filename=\"figures/token_pairs.html\", title=\"Token pairs: blocks 1,600,000 - 1,850,000\")\n",
    "save(x)"
   ]
  },
  {
   "cell_type": "code",
   "execution_count": null,
   "id": "e8bd7e87-5b12-4dd5-bb3f-eebc8cd22a57",
   "metadata": {},
   "outputs": [],
   "source": [
    "%%time\n",
    "pa = '0x555B74dAFC4Ef3A5A1640041e3244460Dc7610d1'\n",
    "dd = df[(df.row_type == DataRowType.END_OF_BLOCK_TOKEN_PAIR_SNAPSHOT) & (df.pair_address == pa)].reset_index(drop=True).dropna(axis=1, how='all')\n",
    "\n",
    "x = bh.plot_token_pair(dd)\n",
    "output_file(filename=\"figures/test.html\", title=\"Test\")\n",
    "save(x)"
   ]
  },
  {
   "cell_type": "code",
   "execution_count": null,
   "id": "c0917e63-498e-49d9-b289-456a14417fdb",
   "metadata": {},
   "outputs": [],
   "source": [
    "%%time\n",
    "x = bh.plot_combined_tokens(df)\n",
    "# show(x)\n",
    "output_file(filename=\"figures/tokens.html\", title=\"Token values: blocks 1,700,000 - 1,850,000\")\n",
    "save(x)"
   ]
  },
  {
   "cell_type": "code",
   "execution_count": null,
   "id": "bed97dd2-9a29-4f77-8eb8-9aa6c78111bb",
   "metadata": {},
   "outputs": [],
   "source": [
    "t = '0xAcc15dC74880C9944775448304B263D191c6077F'\n",
    "x = bh.plot_token(df[(df.row_type == DataRowType.END_OF_BLOCK_TOKEN_SNAPSHOT) & (df.token_address == t)].reset_index(drop=True), jump_bps_thresh=100)\n",
    "show(x)"
   ]
  },
  {
   "cell_type": "code",
   "execution_count": null,
   "id": "3e9c0064-8842-47e8-9f14-50334429737a",
   "metadata": {
    "scrolled": true,
    "tags": []
   },
   "outputs": [],
   "source": [
    "%%time\n",
    "for pa, name in list(pair_d.items()):\n",
    "    try:\n",
    "        file_prefix = name.replace('/', '_')\n",
    "        x = bh.plot_token_pair(df[(df.row_type == DataRowType.END_OF_BLOCK_TOKEN_PAIR_SNAPSHOT) & (df.pair_address == pa)].reset_index(drop=True).dropna(axis=1, how='all'))\n",
    "        export_png(x, filename=f'figures/pair_{file_prefix}.png')\n",
    "    except:\n",
    "        print(f'Skipping {pa} ({name}), likely no data')"
   ]
  },
  {
   "cell_type": "code",
   "execution_count": null,
   "id": "702e21a6-34aa-42c3-ae7d-4cacb066e0a9",
   "metadata": {},
   "outputs": [],
   "source": [
    "%%time\n",
    "for t, name in token_d.items():\n",
    "    try:\n",
    "        file_prefix = f'{name}_{t[:5]}'\n",
    "        x = bh.plot_token(df[(df.row_type == DataRowType.END_OF_BLOCK_TOKEN_SNAPSHOT) & (df.token_address == t)].reset_index(drop=True), jump_bps_thresh=100)\n",
    "        export_png(x, filename=f'figures/token_{file_prefix}.png')\n",
    "    except:\n",
    "        print(f'Skipping {t} ({name}), likely no data')"
   ]
  },
  {
   "cell_type": "markdown",
   "id": "8263d559-07ad-4707-a9e5-079515f35bc4",
   "metadata": {},
   "source": [
    "## Correlations"
   ]
  },
  {
   "cell_type": "code",
   "execution_count": null,
   "id": "275ae9e9-8e37-4774-bf60-7f530cf15f7e",
   "metadata": {},
   "outputs": [],
   "source": [
    "usdc_addr = '0x818ec0A7Fe18Ff94269904fCED6AE3DaE6d6dC0b'\n",
    "usdc_col = 'usdc-multi_equiv_with_fees'\n",
    "data = df[df.row_type == DataRowType.END_OF_BLOCK_TOKEN_SNAPSHOT][\n",
    "    ['row_type', 'block_number', 'block_timestamp', 'token_address', usdc_col]] #, 'dai-multi_equiv_no_fees_bps_delta']]\n",
    "data = data.rename(columns={usdc_col: 'usd_value'})\n",
    "mult = {t: 10**(token_to_decimals[t] - token_to_decimals[usdc_addr]) for t in data['token_address'].unique()}\n",
    "data['usd_value'] = pd.Series(zip(data['token_address'], data['usd_value'])).apply(lambda x: mult[x[0]] * x[1])\n",
    "data"
   ]
  },
  {
   "cell_type": "code",
   "execution_count": null,
   "id": "05068e0d-6f4d-4f42-b06e-5abfc3757c46",
   "metadata": {},
   "outputs": [],
   "source": [
    "block_range_str = f'(blocks {data.block_number.min()} - {data.block_number.max()})'\n",
    "token_values = data.pivot(index='block_number', columns='token_address', values='usd_value')\n",
    "token_values = token_values.rename(columns={x: token_d[x] for x in token_values.columns}).reset_index().fillna(method='ffill')\n",
    "token_values.columns.name = None\n",
    "cols = [c for c in token_values.columns if c != 'block_number']\n",
    "token_values\n",
    "token_values.pct_change()"
   ]
  },
  {
   "cell_type": "markdown",
   "id": "fa6ce0af-a3c7-4d65-bd35-e836ba033a9c",
   "metadata": {},
   "source": [
    "## Avoiding spurious token correlations\n",
    "Virtually every token (except STELLA and ETH and axlATOM, which have direct STELLA/USDC and ETH/USDC and axlATOM/USDC pools) must go through WGLMR -> USDC_multi to calculate the value. If WGLMR goes up in value (based on its WGLMR -> USDC pool), then every other token goes up the same amount (creating this spurious correlation). To make this explicit:\n",
    "\n",
    "Let's say r0 = WGLMR/USDC initial rate, s0 = xcDOT/WGLMR initial rate, t = s * r = derived xcDOT -> (WGLMR -> ) USDC rate\n",
    "If r1 = r0 * c and s1 = s0 * d, then t1 = t0 * c * d.\n",
    "pctdiff_r = (r1 - r0) / r0 = r0(c - 1) / r0 = c - 1 ->  c = 1 + pctdiff_r\n",
    "\n",
    "There may be cases where STELLA, ETH, axlATOM go through WGLMR but we pretend this doesn't happen (by looking at the values with fees to punish extra jumps). We simply divide Then the remaining diffs are due to the token's rate to WGLMR changing e.g. the value of xcDOT now only changes if there is a swap between xcDOT/WGLMR (since xcDOT -> wGLMR -> USDC).\n",
    "\n",
    "Honestly Idk how to deal w this. Gonna do some sketchy stuff to see if there are interesting results.\n",
    "\n",
    "**This is garbage. I think artifically constraining to use the equiv columns I've calculated is a bad idea. Use CEX data to compute correlations if needed. **"
   ]
  },
  {
   "cell_type": "code",
   "execution_count": null,
   "id": "ae2f1c2c-f237-4ea7-8780-4978abcfdb49",
   "metadata": {},
   "outputs": [],
   "source": [
    "p = token_values.pct_change()\n",
    "adj_pctdiff = pd.DataFrame({k: p[k] for k in ['WGLMR', 'STELLA', 'ETH', 'axlATOM', 'BNB']})\n",
    "for col in ['xcDOT', 'xcINTR', 'xcaUSD', 'FTM', 'WELL', 'MATIC', 'AVAX']:\n",
    "    adj_pctdiff[col] = p[col] - p['WGLMR']\n",
    "# adj_pctdiff['block_number'] = token_values['block_number']\n",
    "adj_pctdiff"
   ]
  },
  {
   "cell_type": "code",
   "execution_count": null,
   "id": "78600a8f-3df7-4181-b99f-893d5fabef40",
   "metadata": {},
   "outputs": [],
   "source": [
    "adj_pctdiff[adj_pctdiff.xcINTR.abs() > 1e-10]"
   ]
  },
  {
   "cell_type": "code",
   "execution_count": null,
   "id": "9f449c79-a16a-445a-bcae-b6c7062ba180",
   "metadata": {},
   "outputs": [],
   "source": [
    "token_values.pct_change().iloc[33979:33982].T"
   ]
  },
  {
   "cell_type": "code",
   "execution_count": null,
   "id": "c73d8c92-25fc-4bf4-ad57-9e5f2513de76",
   "metadata": {},
   "outputs": [],
   "source": [
    "token_values.pct_change()"
   ]
  },
  {
   "cell_type": "code",
   "execution_count": null,
   "id": "3182803c-3483-4d42-829e-46dbf17844df",
   "metadata": {},
   "outputs": [],
   "source": [
    "sns.set(rc = {'figure.figsize':(20,10)})"
   ]
  },
  {
   "cell_type": "code",
   "execution_count": null,
   "id": "73736d3f-bcb0-4caf-9b8e-5572c0e6678b",
   "metadata": {},
   "outputs": [],
   "source": [
    "corr = adj_pctdiff.corr()\n",
    "plot = sns.heatmap(corr, annot=True)\n",
    "plt.title(f'Correlation matrix of StellaSwap token value deltas {block_range_str}')\n",
    "plt.figtext(0.45, -0.03, f'Average absolute value correlation = {corr.abs().mean().mean():0.3f}', wrap=True, horizontalalignment='center', fontsize=12)\n",
    "#plot.get_figure().savefig(\"figures/stellaswap_token_pair_raw_rate_correlation_heatmap.png\", bbox_inches='tight')"
   ]
  },
  {
   "cell_type": "code",
   "execution_count": null,
   "id": "c030cffd-d1eb-468b-b7f0-a49bcb2526d0",
   "metadata": {},
   "outputs": [],
   "source": [
    "corr = adj_p.corr()\n",
    "plot = sns.heatmap(corr, annot=True)\n",
    "plt.title(f'Correlation matrix of StellaSwap token value deltas {block_range_str}')\n",
    "plt.figtext(0.45, -0.03, f'Average absolute value correlation = {corr.abs().mean().mean():0.3f}', wrap=True, horizontalalignment='center', fontsize=12)\n",
    "#plot.get_figure().savefig(\"figures/stellaswap_token_pair_raw_rate_correlation_heatmap.png\", bbox_inches='tight')"
   ]
  },
  {
   "cell_type": "code",
   "execution_count": null,
   "id": "d0cc000e",
   "metadata": {},
   "outputs": [],
   "source": [
    "corr = adj_p.corr()\n",
    "plot = sns.heatmap(corr, annot=True)\n",
    "plt.title(f'Correlation matrix of StellaSwap token value deltas {block_range_str}')\n",
    "plt.figtext(0.45, -0.03, f'Average absolute value correlation = {corr.abs().mean().mean():0.3f}', wrap=True, horizontalalignment='center', fontsize=12)\n",
    "#plot.get_figure().savefig(\"figures/stellaswap_token_pair_raw_rate_correlation_heatmap.png\", bbox_inches='tight')"
   ]
  },
  {
   "cell_type": "code",
   "execution_count": null,
   "id": "c8bc7e26-943f-4d01-aa99-748cc27db975",
   "metadata": {},
   "outputs": [],
   "source": [
    "# How do you  even bin this and avoid spurious correlations? Use WGLMR as the base token?\n",
    "# Answer: Subtract by the WGLMR_delta?\n",
    "# blocks_per_bin = 5000\n",
    "for blocks_per_bin in [2, 3, 4, 5, 10, 15, 20, 25, 50, 100, 150, 300, 600, 1500, 7200]:\n",
    "    bin_minute_length = blocks_per_bin / 5 # approximate because a block is produced approx each 12 s\n",
    "    num_blocks = int(token_pair_rates.block_number.max() - token_pair_rates.block_number.min() + 1)\n",
    "    num_bins = num_blocks // blocks_per_bin # 10 block bins ~ 2 minutes bin\n",
    "    token_pair_binned_rates = token_pair_rates.groupby(pd.cut(token_pair_rates['block_number'], num_bins)).mean()\n",
    "\n",
    "    corr = token_pair_binned_rates[cols].pct_change().corr()\n",
    "    plot = sns.heatmap(corr, annot=True)\n",
    "    plt.figtext(0.45, -0.03, f'Average absolute value correlation = {corr.abs().mean().mean():0.3f}', wrap=True, horizontalalignment='center', fontsize=12)\n",
    "    plt.title(f'Correlation matrix of StellaSwap token pair rate ({blocks_per_bin} blocks, i.e. ~{bin_minute_length} min, per bin) deltas {block_range_str}')\n",
    "    plot.get_figure().savefig(f'figures/stellaswap_token_pair_{blocks_per_bin}_bin_rate_correlation_heatmap.png', bbox_inches='tight')\n",
    "    plt.clf()"
   ]
  },
  {
   "cell_type": "code",
   "execution_count": null,
   "id": "76a3a087-b7a3-4b5b-bdc6-3b42c57fe887",
   "metadata": {},
   "outputs": [],
   "source": [
    "token_pair_binned_rates"
   ]
  },
  {
   "cell_type": "code",
   "execution_count": null,
   "id": "498a8d34-1e10-4237-aa0f-06172d2161a3",
   "metadata": {},
   "outputs": [],
   "source": [
    "pa = '0xa927E1e1E044CA1D9fe1854585003477331fE2Af'\n",
    "bh.plot_token_pair(df[(df.row_type == DataRowType.END_OF_BLOCK_TOKEN_PAIR_SNAPSHOT) & (df.pair_address == pa)].reset_index(drop=True).dropna(axis=1, how='all'))"
   ]
  },
  {
   "cell_type": "code",
   "execution_count": null,
   "id": "dac81e83-0d9a-47be-8829-6fd70b5cf66c",
   "metadata": {},
   "outputs": [],
   "source": [
    "t = '0xAcc15dC74880C9944775448304B263D191c6077F'\n",
    "bh.plot_token(df[(df.row_type == DataRowType.END_OF_BLOCK_TOKEN_SNAPSHOT) & (df.token_address == t)], jump_bps_thresh=100, smoothing_level=5e-3)\n",
    "\n",
    "t2 = '0xFfFFfFff1FcaCBd218EDc0EbA20Fc2308C778080'\n",
    "bh.plot_token(df[(df.row_type == DataRowType.END_OF_BLOCK_TOKEN_SNAPSHOT) & (df.token_address == t2)], jump_bps_thresh=100, smoothing_level=5e-3)"
   ]
  },
  {
   "cell_type": "code",
   "execution_count": null,
   "id": "ad9fb32d-03cc-4563-8749-2162e3322820",
   "metadata": {},
   "outputs": [],
   "source": [
    "dai_data = pd.DataFrame({ f'{token_name}': \\\n",
    " df[(df.row_type == DataRowType.END_OF_BLOCK_TOKEN_SNAPSHOT) & (df.token_address == token_address)]['dai-multi_equiv_no_fees'].reset_index(drop=True) \\\n",
    " for token_address, token_name in token_d.items()\n",
    "}).dropna(axis=1, how='all')\n",
    "\n",
    "smoothed_dai_data = pd.DataFrame({ f'{token_name}': \\\n",
    " df[(df.row_type == DataRowType.END_OF_BLOCK_TOKEN_SNAPSHOT) & (df.token_address == token_address)]['smoothed_dai-multi_equiv_no_fees'].reset_index(drop=True) \\\n",
    " for token_address, token_name in token_d.items()\n",
    "}).dropna(axis=1, how='all')\n",
    "\n",
    "dai_delta_data = pd.DataFrame({ f'{token_name}': \\\n",
    " 10_000 * df[(df.row_type == DataRowType.END_OF_BLOCK_TOKEN_SNAPSHOT) & (df.token_address == token_address)]['dai-multi_equiv_no_fees'].pct_change().reset_index(drop=True) \\\n",
    " for token_address, token_name in token_d.items()\n",
    "}).dropna(axis=1, how='all')\n",
    "\n",
    "smoothed_dai_delta_data = pd.DataFrame({ f'{token_name}': \\\n",
    " 10_000 * df[(df.row_type == DataRowType.END_OF_BLOCK_TOKEN_SNAPSHOT) & (df.token_address == token_address)]['smoothed_dai-multi_equiv_no_fees'].pct_change().reset_index(drop=True) \\\n",
    " for token_address, token_name in token_d.items()\n",
    "}).dropna(axis=1, how='all')"
   ]
  },
  {
   "cell_type": "code",
   "execution_count": null,
   "id": "739a6c21-bd16-402b-b410-8ac94cff3653",
   "metadata": {},
   "outputs": [],
   "source": [
    "sns.set(rc = {'figure.figsize':(15,8)})\n",
    "#sns.heatmap(dai_data.corr(), annot=True)\n",
    "#sns.heatmap(smoothed_dai_data.corr(), annot=True)\n",
    "#sns.heatmap(smoothed_dai_delta_data.corr(), annot=True)\n",
    "\n",
    "plot = sns.heatmap(dai_delta_data.corr(), annot=True)\n",
    "plt.title('Correlation matrix of StellaSwap token DAI-equivalent-value deltas')\n",
    "plot.get_figure().savefig(\"figures/stellaswap_token_correlation_heatmap.png\") "
   ]
  }
 ],
 "metadata": {
  "kernelspec": {
   "display_name": "moonbeam-py",
   "language": "python",
   "name": "moonbeampy"
  },
  "language_info": {
   "codemirror_mode": {
    "name": "ipython",
    "version": 3
   },
   "file_extension": ".py",
   "mimetype": "text/x-python",
   "name": "python",
   "nbconvert_exporter": "python",
   "pygments_lexer": "ipython3",
   "version": "3.10.4"
  }
 },
 "nbformat": 4,
 "nbformat_minor": 5
}
